{
  "nbformat": 4,
  "nbformat_minor": 0,
  "metadata": {
    "colab": {
      "name": "20201015 딥러닝 CNN Advanced",
      "provenance": []
    },
    "kernelspec": {
      "name": "python3",
      "display_name": "Python 3"
    },
    "accelerator": "GPU"
  },
  "cells": [
    {
      "cell_type": "markdown",
      "metadata": {
        "id": "wdolmN2KlHsC"
      },
      "source": [
        "# Advanced 한 내용\n",
        "* DataGenerator 를 이용한 데이터 관리\n",
        "* tf.session 을 이용한 훈련"
      ]
    },
    {
      "cell_type": "code",
      "metadata": {
        "id": "i2j8qyt3ln3H"
      },
      "source": [
        "import numpy as np\n",
        "import tensorflow as tf\n",
        "\n",
        "from tensorflow.keras import layers\n",
        "from tensorflow.keras import datasets\n",
        "\n",
        "import matplotlib.pyplot as plt\n",
        "%matplotlib inline"
      ],
      "execution_count": 1,
      "outputs": []
    },
    {
      "cell_type": "markdown",
      "metadata": {
        "id": "K8AQQrKOl93R"
      },
      "source": [
        "## DataGenerator\n",
        "\n",
        "1. 사이킷 런의 train_test_split 의 업그레이드된 버전\n",
        "2. 셔플의 기능이 추가, 배치의 기능 추가 ( 모든 데이터를 병렬로 처리 )\n",
        "3. label 의 관리가 필요 없다.\n",
        "\n",
        "* from_tensor_slices() -> 데이터 세트 만들기\n",
        "* shuffle() -> 섞기\n",
        "* batch() -> 미니배치 만들기\n"
      ]
    },
    {
      "cell_type": "code",
      "metadata": {
        "id": "1RGuMVhimS4I"
      },
      "source": [
        "mnist = tf.keras.datasets.mnist\n",
        "\n",
        "(X_train, y_train), (X_test, y_test) = mnist.load_data()\n",
        "\n",
        "X_train = X_train[..., tf.newaxis]\n",
        "X_test = X_test[..., tf.newaxis]\n",
        "\n",
        "X_train, X_test = X_train / 255.0, X_test / 255.0"
      ],
      "execution_count": 31,
      "outputs": []
    },
    {
      "cell_type": "markdown",
      "metadata": {
        "id": "s26h5LfSnIR6"
      },
      "source": [
        "# tf.data 사용하기"
      ]
    },
    {
      "cell_type": "code",
      "metadata": {
        "id": "z-zwsGFSoHIC"
      },
      "source": [
        "# 데이터를 병렬로 불러올 수 있게 해준다.\n",
        "\n",
        "train_ds = tf.data.Dataset.from_tensor_slices((X_train, y_train))"
      ],
      "execution_count": 32,
      "outputs": []
    },
    {
      "cell_type": "code",
      "metadata": {
        "id": "ihj2vTPJoPe5"
      },
      "source": [
        "# 훈련 데이터 generator 만들기\n",
        "\n",
        "train_ds = train_ds.shuffle(1000) # 버피 사이즈 지정, 1000 정도가 제일 적당하다고 한다.\n",
        "train_ds = train_ds.batch(32) # 미니 배치 사이즈\n",
        "\n",
        "# 테스트 데이터 generator 만들기\n",
        "test_ds = tf.data.Dataset.from_tensor_slices((X_test, y_test))\n",
        "# train을 해줬으면 같은 방식으로 test도 해줘야 한다. 단, test 는 shuffle 할 필요가 없다. 이미 train 에서 shuffle 하기 때문에 test 를 shuffle 한다고 해서 출력값이 많이 변화되는건 아니다\n",
        "test_ds = test_ds.batch(32)"
      ],
      "execution_count": 33,
      "outputs": []
    },
    {
      "cell_type": "markdown",
      "metadata": {
        "id": "oN6r8JV-poAz"
      },
      "source": [
        "# 시각화\n",
        "* take() 함수를 이용하면 배치 사이즈만큼 가져온다."
      ]
    },
    {
      "cell_type": "code",
      "metadata": {
        "id": "_RTDYOPbptUh",
        "outputId": "07b520d3-d992-45fd-d25c-e643c2ffa2a2",
        "colab": {
          "base_uri": "https://localhost:8080/",
          "height": 545
        }
      },
      "source": [
        "# 현재 각 배치의 형상 (32, 28, 28, 1)\n",
        "\n",
        "for image_batch, label in train_ds.take(2):\n",
        "  plt.title(str(label[0]))\n",
        "  plt.imshow(image_batch[0, ..., 0], 'gray')\n",
        "  plt.show()\n"
      ],
      "execution_count": 34,
      "outputs": [
        {
          "output_type": "display_data",
          "data": {
            "image/png": "[encoded data removed]",
            "text/plain": [
              "<Figure size 432x288 with 1 Axes>"
            ]
          },
          "metadata": {
            "tags": [],
            "needs_background": "light"
          }
        },
        {
          "output_type": "display_data",
          "data": {
            "image/png": "[encoded data removed]",
            "text/plain": [
              "<Figure size 432x288 with 1 Axes>"
            ]
          },
          "metadata": {
            "tags": [],
            "needs_background": "light"
          }
        }
      ]
    },
    {
      "cell_type": "markdown",
      "metadata": {
        "id": "udt9XfdCpyWR"
      },
      "source": [
        "# 케라스를 이용해서 CNN 레이어만들기"
      ]
    },
    {
      "cell_type": "code",
      "metadata": {
        "id": "fNnvjQkurZkm"
      },
      "source": [
        "from tensorflow.keras import layers\n",
        "\n",
        "# 레이어 쌓기\n",
        "# 1. Input 형상, 분류할 클래스 개수 준비\n",
        "\n",
        "input_shape = (28, 28, 1) # X_train[0].shape 를 해서 그 값을 넣어줘도 됨, 꼭 28,28,1 이 아니라는것을 알아둘 것\n",
        "num_classes = 10\n",
        "\n",
        "# 2. input 레이어 만들기\n",
        "\n",
        "inputs = layers.Input(shape=input_shape)\n",
        "\n",
        "# 3. 필요한 레이어 쌓기\n",
        "# Feature Extraction 을 할 수 있는 CNN 레이어를 구성\n",
        "# 레이어가 많아질수록 특징이 많아진다 ( 정확도가 높아지는 것은 아님 )\n",
        "# 복잡한 이미지일수록 많은걸 볼 수 있게 되지만, 과대적합은 조심해야함\n",
        "\n",
        "\n",
        "net = layers.Conv2D(filters=32, kernel_size=3, strides=1, padding='SAME')(inputs) # inputs 로 결과물을 흘려보내면 net이 그 결과물을 받는다\n",
        "net = layers.Activation('relu')(net)\n",
        "net = layers.Conv2D(filters=32, kernel_size=(3, 3), strides=(1, 1), padding='SAME')(net)\n",
        "net = layers.Activation('relu')(net)\n",
        "net = layers.MaxPool2D((2,2))(net)\n",
        "net = layers.Dropout(0.25)(net)\n",
        "\n",
        "net = layers.Conv2D(filters=64, kernel_size=3, strides=1, padding='SAME')(net) \n",
        "net = layers.Activation('relu')(net)\n",
        "net = layers.Conv2D(filters=64, kernel_size=(3, 3), strides=(1, 1), padding='SAME')(net)\n",
        "net = layers.Activation('relu')(net)\n",
        "net = layers.MaxPool2D((2,2))(net)\n",
        "net = layers.Dropout(0.25)(net)\n",
        "\n",
        "# Fully Connected (Dense, Affine)\n",
        "\n",
        "net = layers.Flatten()(net) # 데이터를 쫙 펴준다.\n",
        "net = layers.Dense(512)(net)\n",
        "net = layers.Activation('relu')(net)\n",
        "net = layers.Dropout(0.25)(net)\n",
        "\n",
        "# 출력층 설계\n",
        "net = layers.Dense(num_classes)(net)\n",
        "net = layers.Activation('softmax')(net)\n",
        "\n",
        "model = tf.keras.Model(inputs=inputs, outputs=net, name='Basic_CNN')"
      ],
      "execution_count": 35,
      "outputs": []
    },
    {
      "cell_type": "code",
      "metadata": {
        "id": "qYA7DPl8zmIQ"
      },
      "source": [
        "model.summary()"
      ],
      "execution_count": null,
      "outputs": []
    },
    {
      "cell_type": "code",
      "metadata": {
        "id": "yZhkKOxjzvvI",
        "outputId": "a3317454-5d28-4658-837a-2ef6d4f1df0e",
        "colab": {
          "base_uri": "https://localhost:8080/",
          "height": 53
        }
      },
      "source": [
        "# model.compile(optimizer='adam', loss='sparse_categorical_crossentropy')\n",
        "# model.fit(train_ds, epochs=1)\n",
        "\n",
        "# 어제 했던거에서 train_ds -> 데이터셋을 사용했다는것만 달라짐"
      ],
      "execution_count": 14,
      "outputs": [
        {
          "output_type": "stream",
          "text": [
            "1875/1875 [==============================] - 7s 4ms/step - loss: 0.1258\n"
          ],
          "name": "stdout"
        },
        {
          "output_type": "execute_result",
          "data": {
            "text/plain": [
              "<tensorflow.python.keras.callbacks.History at 0x7f12225af588>"
            ]
          },
          "metadata": {
            "tags": []
          },
          "execution_count": 14
        }
      ]
    },
    {
      "cell_type": "markdown",
      "metadata": {
        "id": "edfG1-cG0F8w"
      },
      "source": [
        "# Tensorflow 를 중급자 수준으로 사용하기"
      ]
    },
    {
      "cell_type": "markdown",
      "metadata": {
        "id": "dYcTLV170Zj4"
      },
      "source": [
        "# 최적화 함수 따로 빼기\n",
        "* loss Function\n",
        "* Optimizer"
      ]
    },
    {
      "cell_type": "code",
      "metadata": {
        "id": "pPkJqmDl0dbC"
      },
      "source": [
        "loss_object= tf.keras.losses.SparseCategoricalCrossentropy()\n",
        "optimizer = tf.keras.optimizers.Adam()"
      ],
      "execution_count": 37,
      "outputs": []
    },
    {
      "cell_type": "markdown",
      "metadata": {
        "id": "3PnXTgWq0ohp"
      },
      "source": [
        "배치를 활용하고 있기 때문에 각 배치마다의 loss, accuracy 에 대한 평균을 구해준다.\n",
        "\n",
        "즉, 평가 방법을 각 배치마다의 평균을 낸다."
      ]
    },
    {
      "cell_type": "code",
      "metadata": {
        "id": "rK3fnJVU01-X"
      },
      "source": [
        "train_loss = tf.keras.metrics.Mean(name='train_loss')\n",
        "train_accuracy = tf.keras.metrics.SparseCategoricalAccuracy(name='train_accuracy')\n",
        "\n",
        "test_loss = tf.keras.metrics.Mean(name='test_loss')\n",
        "test_accuracy = tf.keras.metrics.SparseCategoricalAccuracy(name='test_accuracy')"
      ],
      "execution_count": 38,
      "outputs": []
    },
    {
      "cell_type": "markdown",
      "metadata": {
        "id": "CwJr4K0Q1UMz"
      },
      "source": [
        "# 훈련 시키기\n",
        "@tf.function - 그래프만 미리 만들어 놓고, 실제 학습이 시작되면 실행되는 함수 만들기"
      ]
    },
    {
      "cell_type": "code",
      "metadata": {
        "id": "L64qaAxr1sUC"
      },
      "source": [
        "@tf.function # Tensorflow session(환경) 에서 작동되는 함수 만들기. 즉 훈련을 할 때만 실행된다.\n",
        "\n",
        "# 미분이 필요\n",
        "\n",
        "def train_step(images, labels): # 개인의 훈련루틴을 만들때 사용가능\n",
        "  # 자동 미분 ( 오차 역전파 ) 수행하는 객체 생성\n",
        "  with tf.GradientTape() as tape:\n",
        "    predictions = model(images) # model 이 훈련 모드로 작동한다.\n",
        "    loss = loss_object(labels, predictions) # 최초의 오차 -> 가 있어서 오차 역전파를 할 수 있다. 오차를 구하는 코드\n",
        "    # loss 값에 대한 gradients( 기울기 ) 를 구해야 한다.\n",
        "\n",
        "  # 미분적용하기\n",
        "  gradients = tape.gradient(loss, model.trainable_variables)  # 오차역전파에 대한 기울기를 구했다.\n",
        "  # 현재 가중치와 편향에 대한 오차값이 들어간다. ( loss ) \n",
        "  # 이전 층에 원래 흘러들어왔던 값 ( 매개변수 값, 훈련가능한 변수(weight, 편향) <- model.trainable_variables)\n",
        "  \n",
        "  # 기울기를 실제 적용 ( 최적화 loss 가 0 에 가까워지는 것)\n",
        "  optimizer.apply_gradients(zip(gradients, model.trainable_variables)) # 구해진 기울기를 이용한 최적화\n",
        "\n",
        "\n",
        "  # 배치평균 loss\n",
        "  train_loss(loss)\n",
        "\n",
        "  # 배치평균 정확도 구하기\n",
        "  train_accuracy(labels, predictions) \n",
        "\n",
        "  \n"
      ],
      "execution_count": 39,
      "outputs": []
    },
    {
      "cell_type": "markdown",
      "metadata": {
        "id": "zW2RK_B7_aHI"
      },
      "source": [
        "# 테스트 구현하기"
      ]
    },
    {
      "cell_type": "code",
      "metadata": {
        "id": "DLRT4sfb_evf"
      },
      "source": [
        "@tf.function\n",
        "def test_step(images, labels): # loss 가 적거나 acurracy 가 높으면 성공\n",
        "  predictions = model(images)\n",
        "  t_loss = loss_object(labels, predictions)\n",
        "  \n",
        "  test_loss(t_loss)\n",
        "  test_accuracy(labels, predictions)\n"
      ],
      "execution_count": 40,
      "outputs": []
    },
    {
      "cell_type": "code",
      "metadata": {
        "id": "Emr04ui5_-DX",
        "outputId": "437a94f6-66b9-4b69-daf9-a830b886126b",
        "colab": {
          "base_uri": "https://localhost:8080/",
          "height": 107
        }
      },
      "source": [
        "epochs = 5\n",
        "\n",
        "for epoch in range(epochs):\n",
        "  # 전체 데이터 훈련 ( take 를 안쓰면 전체데이터가 온다)  \n",
        "  for images, labels in train_ds:\n",
        "    train_step(images, labels)\n",
        "  \n",
        "  # 이어서 테스트하기\n",
        "  for test_images, test_labels in test_ds:\n",
        "    test_step(test_images, test_labels)\n",
        "    \n",
        "  template = 'Epoch {}, Train Loss : {:.6f} / Train accuracy : {:.6f} --- Test Loss : {:.6f} / Test accuracy : {:.6f}'\n",
        "  print(template.format(\n",
        "      epoch + 1,\n",
        "      train_loss.result(),\n",
        "      train_accuracy.result() * 100,\n",
        "      test_loss.result(),\n",
        "      test_accuracy.result() * 100))"
      ],
      "execution_count": 41,
      "outputs": [
        {
          "output_type": "stream",
          "text": [
            "Epoch 1, Train Loss : 0.101356 / Train accuracy : 96.861664 --- Test Loss : 0.045953 / Test accuracy : 98.409996\n",
            "Epoch 2, Train Loss : 0.068857 / Train accuracy : 97.882500 --- Test Loss : 0.037725 / Test accuracy : 98.715004\n",
            "Epoch 3, Train Loss : 0.054302 / Train accuracy : 98.320557 --- Test Loss : 0.034610 / Test accuracy : 98.846664\n",
            "Epoch 4, Train Loss : 0.045374 / Train accuracy : 98.581665 --- Test Loss : 0.033701 / Test accuracy : 98.904999\n",
            "Epoch 5, Train Loss : 0.039111 / Train accuracy : 98.780998 --- Test Loss : 0.034994 / Test accuracy : 98.896004\n"
          ],
          "name": "stdout"
        }
      ]
    },
    {
      "cell_type": "code",
      "metadata": {
        "id": "FjI_u_ckBgeo"
      },
      "source": [
        "from tensorflow.keras import layers\n",
        "\n",
        "# 레이어 쌓기\n",
        "# 1. Input 형상, 분류할 클래스 개수 준비\n",
        "\n",
        "input_shape = (28, 28, 1) # X_train[0].shape 를 해서 그 값을 넣어줘도 됨, 꼭 28,28,1 이 아니라는것을 알아둘 것\n",
        "num_classes = 10\n",
        "\n",
        "# 2. input 레이어 만들기\n",
        "\n",
        "inputs = layers.Input(shape=input_shape)\n",
        "\n",
        "# 3. 필요한 레이어 쌓기\n",
        "# Feature Extraction 을 할 수 있는 CNN 레이어를 구성\n",
        "# 레이어가 많아질수록 특징이 많아진다 ( 정확도가 높아지는 것은 아님 )\n",
        "# 복잡한 이미지일수록 많은걸 볼 수 있게 되지만, 과대적합은 조심해야함\n",
        "\n",
        "\n",
        "net = layers.Conv2D(filters=32, kernel_size=3, strides=1, padding='SAME')(inputs) # inputs 로 결과물을 흘려보내면 net이 그 결과물을 받는다\n",
        "net = layers.Activation('relu')(net)\n",
        "net = layers.Conv2D(filters=32, kernel_size=(3, 3), strides=(1, 1), padding='SAME')(net)\n",
        "net = layers.Activation('relu')(net)\n",
        "net = layers.MaxPool2D((2,2))(net)\n",
        "net = layers.Dropout(0.25)(net)\n",
        "\n",
        "net = layers.Conv2D(filters=64, kernel_size=3, strides=1, padding='SAME')(net) \n",
        "net = layers.Activation('relu')(net)\n",
        "net = layers.Conv2D(filters=64, kernel_size=(3, 3), strides=(1, 1), padding='SAME')(net)\n",
        "net = layers.Activation('relu')(net)\n",
        "net = layers.MaxPool2D((2,2))(net)\n",
        "net = layers.Dropout(0.25)(net)\n",
        "\n",
        "# Fully Connected (Dense, Affine)\n",
        "\n",
        "net = layers.Flatten()(net) # 데이터를 쫙 펴준다.\n",
        "net = layers.Dense(512)(net)\n",
        "net = layers.Activation('relu')(net)\n",
        "net = layers.Dropout(0.25)(net)\n",
        "\n",
        "# 출력층 설계\n",
        "net = layers.Dense(num_classes)(net)\n",
        "net = layers.Activation('softmax')(net)\n",
        "\n",
        "model = tf.keras.Model(inputs=inputs, outputs=net, name='Basic_CNN')"
      ],
      "execution_count": 42,
      "outputs": []
    },
    {
      "cell_type": "markdown",
      "metadata": {
        "id": "UyyEYghbD0sp"
      },
      "source": [
        "# Evaluating\n",
        "* 학습된 모델 확인"
      ]
    },
    {
      "cell_type": "code",
      "metadata": {
        "id": "DcdLm_X5D9KZ",
        "outputId": "8cca963a-5990-47d9-c11d-0a2ce211369b",
        "colab": {
          "base_uri": "https://localhost:8080/",
          "height": 377
        }
      },
      "source": [
        "model.compile(optimizer='adam', loss='sparse_categorical_crossentropy', metrics=['acc'])\n",
        "hist = model.fit(train_ds, epochs=10) # 훈련 데이터에 대한 에폭 당 히스토리 확인 가능"
      ],
      "execution_count": 43,
      "outputs": [
        {
          "output_type": "stream",
          "text": [
            "Epoch 1/10\n",
            "1875/1875 [==============================] - 7s 4ms/step - loss: 0.1304 - acc: 0.9593\n",
            "Epoch 2/10\n",
            "1875/1875 [==============================] - 7s 4ms/step - loss: 0.0501 - acc: 0.9850\n",
            "Epoch 3/10\n",
            "1875/1875 [==============================] - 8s 4ms/step - loss: 0.0383 - acc: 0.9880\n",
            "Epoch 4/10\n",
            "1875/1875 [==============================] - 8s 4ms/step - loss: 0.0315 - acc: 0.9905\n",
            "Epoch 5/10\n",
            "1875/1875 [==============================] - 7s 4ms/step - loss: 0.0274 - acc: 0.9913\n",
            "Epoch 6/10\n",
            "1875/1875 [==============================] - 7s 4ms/step - loss: 0.0224 - acc: 0.9926\n",
            "Epoch 7/10\n",
            "1875/1875 [==============================] - 7s 4ms/step - loss: 0.0201 - acc: 0.9933\n",
            "Epoch 8/10\n",
            "1875/1875 [==============================] - 7s 4ms/step - loss: 0.0186 - acc: 0.9941\n",
            "Epoch 9/10\n",
            "1875/1875 [==============================] - 8s 4ms/step - loss: 0.0172 - acc: 0.9944\n",
            "Epoch 10/10\n",
            "1875/1875 [==============================] - 7s 4ms/step - loss: 0.0174 - acc: 0.9946\n"
          ],
          "name": "stdout"
        }
      ]
    },
    {
      "cell_type": "code",
      "metadata": {
        "id": "pAsx7_JgETGR",
        "outputId": "2afd35bb-6e9e-4ba7-dda1-b57e4f50ce9d",
        "colab": {
          "base_uri": "https://localhost:8080/",
          "height": 377
        }
      },
      "source": [
        "hist.history"
      ],
      "execution_count": 44,
      "outputs": [
        {
          "output_type": "execute_result",
          "data": {
            "text/plain": [
              "{'acc': [0.9592999815940857,\n",
              "  0.9850333333015442,\n",
              "  0.9879999756813049,\n",
              "  0.9905499815940857,\n",
              "  0.991266667842865,\n",
              "  0.9926166534423828,\n",
              "  0.9932666420936584,\n",
              "  0.9940666556358337,\n",
              "  0.9944000244140625,\n",
              "  0.994616687297821],\n",
              " 'loss': [0.1303849220275879,\n",
              "  0.050085801631212234,\n",
              "  0.03834763914346695,\n",
              "  0.03147687762975693,\n",
              "  0.027434147894382477,\n",
              "  0.02242027409374714,\n",
              "  0.020079471170902252,\n",
              "  0.01856851764023304,\n",
              "  0.017239512875676155,\n",
              "  0.017421746626496315]}"
            ]
          },
          "metadata": {
            "tags": []
          },
          "execution_count": 44
        }
      ]
    },
    {
      "cell_type": "code",
      "metadata": {
        "id": "THDkT4gsEmLX",
        "outputId": "3c075ab2-b385-4bb9-b493-c59aa5945887",
        "colab": {
          "base_uri": "https://localhost:8080/",
          "height": 53
        }
      },
      "source": [
        "# 테스트 데이터에 대한 확인\n",
        "# 실제 출시전 진행할 것\n",
        "# train test 가 비슷하다면 99가 넘는다고 해도 과적합이라고 보기 힘들다\n",
        "# 사람의 관점에서 보는것이기 때문에 주관적인 부분이 들어갈 수 밖에 없음\n",
        "\n",
        "model.evaluate(test_ds)"
      ],
      "execution_count": 45,
      "outputs": [
        {
          "output_type": "stream",
          "text": [
            "313/313 [==============================] - 1s 3ms/step - loss: 0.0293 - acc: 0.9929\n"
          ],
          "name": "stdout"
        },
        {
          "output_type": "execute_result",
          "data": {
            "text/plain": [
              "[0.02934885583817959, 0.992900013923645]"
            ]
          },
          "metadata": {
            "tags": []
          },
          "execution_count": 45
        }
      ]
    },
    {
      "cell_type": "code",
      "metadata": {
        "id": "k6zk-981E12G"
      },
      "source": [
        ""
      ],
      "execution_count": null,
      "outputs": []
    }
  ]
}