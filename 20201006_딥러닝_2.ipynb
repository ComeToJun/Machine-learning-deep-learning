{
  "nbformat": 4,
  "nbformat_minor": 0,
  "metadata": {
    "colab": {
      "name": "20201006 딥러닝 2",
      "provenance": []
    },
    "kernelspec": {
      "name": "python3",
      "display_name": "Python 3"
    }
  },
  "cells": [
    {
      "cell_type": "markdown",
      "metadata": {
        "id": "kV9DQSSySNsd"
      },
      "source": [
        "## 다차원 배열 계산하기"
      ]
    },
    {
      "cell_type": "code",
      "metadata": {
        "id": "PCi3n-LMT7IR",
        "outputId": "9c2c298d-1831-436c-abba-de81f826a9f9",
        "colab": {
          "base_uri": "https://localhost:8080/"
        }
      },
      "source": [
        "import numpy as np\n",
        "A = np.arange(1, 5).reshape(2,2)\n",
        "B = np.arange(5, 9).reshape(2,2)\n",
        "A"
      ],
      "execution_count": 1,
      "outputs": [
        {
          "output_type": "execute_result",
          "data": {
            "text/plain": [
              "array([[1, 2],\n",
              "       [3, 4]])"
            ]
          },
          "metadata": {
            "tags": []
          },
          "execution_count": 1
        }
      ]
    },
    {
      "cell_type": "code",
      "metadata": {
        "id": "wzIsAC5xmMKo",
        "outputId": "745e60cf-b408-4876-c738-860450750150",
        "colab": {
          "base_uri": "https://localhost:8080/"
        }
      },
      "source": [
        "B"
      ],
      "execution_count": 2,
      "outputs": [
        {
          "output_type": "execute_result",
          "data": {
            "text/plain": [
              "array([[5, 6],\n",
              "       [7, 8]])"
            ]
          },
          "metadata": {
            "tags": []
          },
          "execution_count": 2
        }
      ]
    },
    {
      "cell_type": "code",
      "metadata": {
        "id": "0aBIKj4CUCyq",
        "outputId": "4b704e34-fb28-4b89-d1e5-164fb57b4daa",
        "colab": {
          "base_uri": "https://localhost:8080/"
        }
      },
      "source": [
        "A.shape, B.shape"
      ],
      "execution_count": 3,
      "outputs": [
        {
          "output_type": "execute_result",
          "data": {
            "text/plain": [
              "((2, 2), (2, 2))"
            ]
          },
          "metadata": {
            "tags": []
          },
          "execution_count": 3
        }
      ]
    },
    {
      "cell_type": "markdown",
      "metadata": {
        "id": "yyeQZN6BUFPq"
      },
      "source": [
        "numpy 의 'dot' 함수를 활용하면 행렬의 내적을 구할 수 있다."
      ]
    },
    {
      "cell_type": "code",
      "metadata": {
        "id": "9N5VXxBWUM4K",
        "outputId": "0c24677f-454b-4223-e7bd-c16f679d9908",
        "colab": {
          "base_uri": "https://localhost:8080/"
        }
      },
      "source": [
        "np.dot(A, B)"
      ],
      "execution_count": 4,
      "outputs": [
        {
          "output_type": "execute_result",
          "data": {
            "text/plain": [
              "array([[19, 22],\n",
              "       [43, 50]])"
            ]
          },
          "metadata": {
            "tags": []
          },
          "execution_count": 4
        }
      ]
    },
    {
      "cell_type": "code",
      "metadata": {
        "id": "rj37Y-cJUnTT",
        "outputId": "7fb21f5c-7e79-4006-91c9-a81e5fdfd9aa",
        "colab": {
          "base_uri": "https://localhost:8080/"
        }
      },
      "source": [
        "# 행렬의 내적은 교환법칙이 성립하지 않는다.\n",
        "\n",
        "np.dot(B, A)"
      ],
      "execution_count": 5,
      "outputs": [
        {
          "output_type": "execute_result",
          "data": {
            "text/plain": [
              "array([[23, 34],\n",
              "       [31, 46]])"
            ]
          },
          "metadata": {
            "tags": []
          },
          "execution_count": 5
        }
      ]
    },
    {
      "cell_type": "markdown",
      "metadata": {
        "id": "mpHvDCz-VCu5"
      },
      "source": [
        "# shape 서로 다를 때의 행렬의 내적 규칙"
      ]
    },
    {
      "cell_type": "code",
      "metadata": {
        "id": "BtkXbrHpVZ3f",
        "outputId": "7d1cdf72-f879-4ecb-ef49-baa729985c03",
        "colab": {
          "base_uri": "https://localhost:8080/"
        }
      },
      "source": [
        "A = np.arange(1, 7).reshape(2, 3)\n",
        "B = np.arange(1, 7).reshape(3, 2)\n",
        "\n",
        "A.shape, B.shape"
      ],
      "execution_count": 6,
      "outputs": [
        {
          "output_type": "execute_result",
          "data": {
            "text/plain": [
              "((2, 3), (3, 2))"
            ]
          },
          "metadata": {
            "tags": []
          },
          "execution_count": 6
        }
      ]
    },
    {
      "cell_type": "code",
      "metadata": {
        "id": "u2izInjDVi8B",
        "outputId": "26b3c304-5481-4155-c513-1fa1dcea18e8",
        "colab": {
          "base_uri": "https://localhost:8080/"
        }
      },
      "source": [
        "A, B"
      ],
      "execution_count": 7,
      "outputs": [
        {
          "output_type": "execute_result",
          "data": {
            "text/plain": [
              "(array([[1, 2, 3],\n",
              "        [4, 5, 6]]), array([[1, 2],\n",
              "        [3, 4],\n",
              "        [5, 6]]))"
            ]
          },
          "metadata": {
            "tags": []
          },
          "execution_count": 7
        }
      ]
    },
    {
      "cell_type": "code",
      "metadata": {
        "id": "6GTG4OymVxrB",
        "outputId": "b3a6f264-7343-43c4-a4e4-5e044dff50cb",
        "colab": {
          "base_uri": "https://localhost:8080/"
        }
      },
      "source": [
        "# 앞에서 곱하는 뒤의 수와 뒤에서 곱하는 앞의 수가 일치하면 곱은 성립한다.\n",
        "# (2,3),(3,2) 뒤의 3 과 앞의 3이 같기 때문에 곱이 성립\n",
        "\n",
        "np.dot(A, B)"
      ],
      "execution_count": 8,
      "outputs": [
        {
          "output_type": "execute_result",
          "data": {
            "text/plain": [
              "array([[22, 28],\n",
              "       [49, 64]])"
            ]
          },
          "metadata": {
            "tags": []
          },
          "execution_count": 8
        }
      ]
    },
    {
      "cell_type": "code",
      "metadata": {
        "id": "ENUoHq8OWfVK",
        "outputId": "dd9b84f8-c262-4e09-c614-2d8136aeb7f5",
        "colab": {
          "base_uri": "https://localhost:8080/"
        }
      },
      "source": [
        "B.shape, A.shape"
      ],
      "execution_count": 9,
      "outputs": [
        {
          "output_type": "execute_result",
          "data": {
            "text/plain": [
              "((3, 2), (2, 3))"
            ]
          },
          "metadata": {
            "tags": []
          },
          "execution_count": 9
        }
      ]
    },
    {
      "cell_type": "code",
      "metadata": {
        "id": "q1qMVP0-V29x",
        "outputId": "5c146592-e6a9-41aa-bb55-e499625221e2",
        "colab": {
          "base_uri": "https://localhost:8080/"
        }
      },
      "source": [
        "# 반대도 성립 \n",
        "\n",
        "np.dot(B, A)"
      ],
      "execution_count": 10,
      "outputs": [
        {
          "output_type": "execute_result",
          "data": {
            "text/plain": [
              "array([[ 9, 12, 15],\n",
              "       [19, 26, 33],\n",
              "       [29, 40, 51]])"
            ]
          },
          "metadata": {
            "tags": []
          },
          "execution_count": 10
        }
      ]
    },
    {
      "cell_type": "markdown",
      "metadata": {
        "id": "9PT72SAyWID6"
      },
      "source": [
        "## 차원수가 다를 경우의 행렬 내적 구하기"
      ]
    },
    {
      "cell_type": "code",
      "metadata": {
        "id": "0shVagm4W21g"
      },
      "source": [
        "A = np.arange(1, 7).reshape(3, 2)\n",
        "B = np.array([7, 8])"
      ],
      "execution_count": 11,
      "outputs": []
    },
    {
      "cell_type": "code",
      "metadata": {
        "id": "5s64t65ElqKB",
        "outputId": "0311f0bf-272f-42b6-e394-7e3806e870a8",
        "colab": {
          "base_uri": "https://localhost:8080/"
        }
      },
      "source": [
        "A"
      ],
      "execution_count": 12,
      "outputs": [
        {
          "output_type": "execute_result",
          "data": {
            "text/plain": [
              "array([[1, 2],\n",
              "       [3, 4],\n",
              "       [5, 6]])"
            ]
          },
          "metadata": {
            "tags": []
          },
          "execution_count": 12
        }
      ]
    },
    {
      "cell_type": "code",
      "metadata": {
        "id": "qoFjJ7UxlugI",
        "outputId": "a3ee911c-5a69-4843-f726-363d22bfee9a",
        "colab": {
          "base_uri": "https://localhost:8080/"
        }
      },
      "source": [
        "B"
      ],
      "execution_count": 13,
      "outputs": [
        {
          "output_type": "execute_result",
          "data": {
            "text/plain": [
              "array([7, 8])"
            ]
          },
          "metadata": {
            "tags": []
          },
          "execution_count": 13
        }
      ]
    },
    {
      "cell_type": "code",
      "metadata": {
        "id": "XyxJHaGElq6g",
        "outputId": "55fa160d-3c75-4253-eb1b-b2243cfef0fa",
        "colab": {
          "base_uri": "https://localhost:8080/"
        }
      },
      "source": [
        "A.shape, B.shape"
      ],
      "execution_count": 14,
      "outputs": [
        {
          "output_type": "execute_result",
          "data": {
            "text/plain": [
              "((3, 2), (2,))"
            ]
          },
          "metadata": {
            "tags": []
          },
          "execution_count": 14
        }
      ]
    },
    {
      "cell_type": "code",
      "metadata": {
        "id": "sncu8L9xXCCw",
        "outputId": "c7625cc3-987c-4bed-80e6-37bf25eac716",
        "colab": {
          "base_uri": "https://localhost:8080/"
        }
      },
      "source": [
        "A.ndim, B.ndim"
      ],
      "execution_count": 15,
      "outputs": [
        {
          "output_type": "execute_result",
          "data": {
            "text/plain": [
              "(2, 1)"
            ]
          },
          "metadata": {
            "tags": []
          },
          "execution_count": 15
        }
      ]
    },
    {
      "cell_type": "code",
      "metadata": {
        "id": "l_iqj4E9XPIh",
        "outputId": "8cd8d2c7-83ee-4bc3-f9d1-7581adc59a28",
        "colab": {
          "base_uri": "https://localhost:8080/"
        }
      },
      "source": [
        "# 앞에 있는 배열 뒤의 수와 뒤 배열 앞 수가 같기 때문에 곱셈이 성립\n",
        "\n",
        "np.dot(A, B)"
      ],
      "execution_count": 16,
      "outputs": [
        {
          "output_type": "execute_result",
          "data": {
            "text/plain": [
              "array([23, 53, 83])"
            ]
          },
          "metadata": {
            "tags": []
          },
          "execution_count": 16
        }
      ]
    },
    {
      "cell_type": "code",
      "metadata": {
        "id": "lvAkdZ8UvnuP",
        "outputId": "9882aa94-2627-4fc2-887c-1ea3089b74ca",
        "colab": {
          "base_uri": "https://localhost:8080/",
          "height": 208
        }
      },
      "source": [
        "np.dot(B, A)"
      ],
      "execution_count": 17,
      "outputs": [
        {
          "output_type": "error",
          "ename": "ValueError",
          "evalue": "ignored",
          "traceback": [
            "\u001b[0;31m---------------------------------------------------------------------------\u001b[0m",
            "\u001b[0;31mValueError\u001b[0m                                Traceback (most recent call last)",
            "\u001b[0;32m<ipython-input-17-831079463ca7>\u001b[0m in \u001b[0;36m<module>\u001b[0;34m()\u001b[0m\n\u001b[0;32m----> 1\u001b[0;31m \u001b[0mnp\u001b[0m\u001b[0;34m.\u001b[0m\u001b[0mdot\u001b[0m\u001b[0;34m(\u001b[0m\u001b[0mB\u001b[0m\u001b[0;34m,\u001b[0m \u001b[0mA\u001b[0m\u001b[0;34m)\u001b[0m\u001b[0;34m\u001b[0m\u001b[0;34m\u001b[0m\u001b[0m\n\u001b[0m",
            "\u001b[0;32m<__array_function__ internals>\u001b[0m in \u001b[0;36mdot\u001b[0;34m(*args, **kwargs)\u001b[0m\n",
            "\u001b[0;31mValueError\u001b[0m: shapes (2,) and (3,2) not aligned: 2 (dim 0) != 3 (dim 0)"
          ]
        }
      ]
    },
    {
      "cell_type": "markdown",
      "metadata": {
        "id": "v4AkipUPXQsB"
      },
      "source": [
        "## 신경망에서의 행렬 내적"
      ]
    },
    {
      "cell_type": "code",
      "metadata": {
        "id": "Vi6RSsIUdpug"
      },
      "source": [
        "# 입력값에 대한 shape 만 신경쓸 것\n",
        "\n",
        "X = np.array([1, 2])\n",
        "W = np.array([[1, 3, 5],\n",
        "            [2, 4, 6]])\n",
        "\n",
        "Y = np.dot(X, W)\n"
      ],
      "execution_count": null,
      "outputs": []
    },
    {
      "cell_type": "code",
      "metadata": {
        "id": "AhEwAl3-wLYG"
      },
      "source": [
        "X.shape, W.shape"
      ],
      "execution_count": null,
      "outputs": []
    },
    {
      "cell_type": "code",
      "metadata": {
        "id": "0NQIYTspdx1v"
      },
      "source": [
        "Y"
      ],
      "execution_count": null,
      "outputs": []
    },
    {
      "cell_type": "code",
      "metadata": {
        "id": "iqoVd7B-d7qg",
        "outputId": "798a585e-1d79-46e0-f54d-608bc69f7f06",
        "colab": {
          "base_uri": "https://localhost:8080/"
        }
      },
      "source": [
        "X = np.array([1.0, 0.5])\n",
        "# 1층의 가중치들\n",
        "W1 = np.array([[0.1, 0.3, 0.5], \n",
        "               [0.2, 0.4, 0.6]])\n",
        "\n",
        "# 1층의 편향들\n",
        "B1 = np.array([0.1, 0.2, 0.3])\n",
        "\n",
        "X.shape, W1.shape, B1.shape"
      ],
      "execution_count": 63,
      "outputs": [
        {
          "output_type": "execute_result",
          "data": {
            "text/plain": [
              "((2,), (2, 3), (3,))"
            ]
          },
          "metadata": {
            "tags": []
          },
          "execution_count": 63
        }
      ]
    },
    {
      "cell_type": "code",
      "metadata": {
        "id": "qfDjcn5ulfxs",
        "outputId": "b5ed179c-aad5-4f1b-ef0c-c84ed11eed9f",
        "colab": {
          "base_uri": "https://localhost:8080/"
        }
      },
      "source": [
        "A1 = np.dot(X, W1) + B1\n",
        "A1"
      ],
      "execution_count": 64,
      "outputs": [
        {
          "output_type": "execute_result",
          "data": {
            "text/plain": [
              "array([0.3, 0.7, 1.1])"
            ]
          },
          "metadata": {
            "tags": []
          },
          "execution_count": 64
        }
      ]
    },
    {
      "cell_type": "code",
      "metadata": {
        "id": "CFnSqqb1l7Hg",
        "outputId": "fb17eb40-d4b6-4303-d2bd-2a513fc39c42",
        "colab": {
          "base_uri": "https://localhost:8080/"
        }
      },
      "source": [
        "print(\"입력값 X의 shape : {}\".format(X.shape))\n",
        "print(\"첫 번째 층 가중치 W1의 shape : {}\".format(W1.shape))\n",
        "print(\"편향 B1의 shape : {}\".format(B1.shape))\n",
        "\n",
        "A1 = np.dot(X, W1) + B1\n",
        "print(\"첫 번째 층의 각 노드의 계산값 : {}\".format(A1))"
      ],
      "execution_count": 65,
      "outputs": [
        {
          "output_type": "stream",
          "text": [
            "입력값 X의 shape : (2,)\n",
            "첫 번째 층 가중치 W1의 shape : (2, 3)\n",
            "편향 B1의 shape : (3,)\n",
            "첫 번째 층의 각 노드의 계산값 : [0.3 0.7 1.1]\n"
          ],
          "name": "stdout"
        }
      ]
    },
    {
      "cell_type": "markdown",
      "metadata": {
        "id": "tJ-fX3Dpl9lo"
      },
      "source": [
        "## 활성화 함수 적용하기\n",
        "\n",
        "\n",
        "*   시그모이드 사용\n",
        "\n",
        "\n",
        "\n"
      ]
    },
    {
      "cell_type": "code",
      "metadata": {
        "id": "gZVRHGvBs6B2",
        "outputId": "e8f08972-16f8-4c96-e3bc-c870957977d5",
        "colab": {
          "base_uri": "https://localhost:8080/"
        }
      },
      "source": [
        "result = 1 / ( 1 + np.exp(-A1) )\n",
        "result"
      ],
      "execution_count": 66,
      "outputs": [
        {
          "output_type": "execute_result",
          "data": {
            "text/plain": [
              "array([0.57444252, 0.66818777, 0.75026011])"
            ]
          },
          "metadata": {
            "tags": []
          },
          "execution_count": 66
        }
      ]
    },
    {
      "cell_type": "code",
      "metadata": {
        "id": "niW13xKMtA6A"
      },
      "source": [
        "# 시그모이드 함수 만들기\n",
        "\n",
        "def sigmoid(x):\n",
        "  return 1 / (1 + np.exp(-x))"
      ],
      "execution_count": 67,
      "outputs": []
    },
    {
      "cell_type": "code",
      "metadata": {
        "id": "8vBCl7soteAQ",
        "outputId": "4a88ac94-5b11-4770-b492-38f75663c814",
        "colab": {
          "base_uri": "https://localhost:8080/"
        }
      },
      "source": [
        "Z1 = sigmoid(A1)\n",
        "\n",
        "print(\"시그모이드 적용 후 : {}\".format(Z1))"
      ],
      "execution_count": 68,
      "outputs": [
        {
          "output_type": "stream",
          "text": [
            "시그모이드 적용 후 : [0.57444252 0.66818777 0.75026011]\n"
          ],
          "name": "stdout"
        }
      ]
    },
    {
      "cell_type": "markdown",
      "metadata": {
        "id": "qTiwEhuQtgl_"
      },
      "source": [
        "## 2층 꾸며주기"
      ]
    },
    {
      "cell_type": "code",
      "metadata": {
        "id": "Yg-FcyVDt75A",
        "outputId": "661f688c-2732-439b-f907-3ddc80600b0e",
        "colab": {
          "base_uri": "https://localhost:8080/"
        }
      },
      "source": [
        "W2 = np.array([[0.1, 0.4],\n",
        "               [0.2, 0.5],\n",
        "               [0.3, 0.6]])\n",
        "\n",
        "B2 = np.array([0.1, 0.2])\n",
        "\n",
        "W2.shape, B2.shape"
      ],
      "execution_count": 69,
      "outputs": [
        {
          "output_type": "execute_result",
          "data": {
            "text/plain": [
              "((3, 2), (2,))"
            ]
          },
          "metadata": {
            "tags": []
          },
          "execution_count": 69
        }
      ]
    },
    {
      "cell_type": "code",
      "metadata": {
        "id": "pBBWANHiuPm5",
        "outputId": "3c8e507a-ab58-4e9b-9053-7a9cd861cc97",
        "colab": {
          "base_uri": "https://localhost:8080/"
        }
      },
      "source": [
        "A2 = np.dot(Z1, W2) + B2\n",
        "Z2 = sigmoid(A2)\n",
        "Z2"
      ],
      "execution_count": 70,
      "outputs": [
        {
          "output_type": "execute_result",
          "data": {
            "text/plain": [
              "array([0.62624937, 0.7710107 ])"
            ]
          },
          "metadata": {
            "tags": []
          },
          "execution_count": 70
        }
      ]
    },
    {
      "cell_type": "markdown",
      "metadata": {
        "id": "Nel7IRBpuywX"
      },
      "source": [
        "## 3층을 출력층으로 생각한다면?\n",
        "\n",
        "\n",
        "*   항등 함수\n",
        "*   cross entropy\n",
        "*   softmax 등을 생각할 수 있다\n",
        "\n"
      ]
    },
    {
      "cell_type": "code",
      "metadata": {
        "id": "nbCSts8ZvX-a"
      },
      "source": [
        "# 항등함수 만들기\n",
        "\n",
        "def identity_function(x):\n",
        "  return x"
      ],
      "execution_count": 71,
      "outputs": []
    },
    {
      "cell_type": "code",
      "metadata": {
        "id": "UqF-q5fxwAjT",
        "outputId": "535edd2b-86af-43aa-b806-117e7c1f0e57",
        "colab": {
          "base_uri": "https://localhost:8080/"
        }
      },
      "source": [
        "W3 = np.array([[0.1, 0.3],\n",
        "               [0.2, 0.4]])\n",
        "B3 = np.array([0.1, 0.2])\n",
        "\n",
        "A3 = np.dot(Z2, W3) + B3\n",
        "Y = identity_function(A3)  # Y = A3와 같음\n",
        "print(\"출력층 결과 : {}\".format(Y))"
      ],
      "execution_count": 72,
      "outputs": [
        {
          "output_type": "stream",
          "text": [
            "출력층 결과 : [0.31682708 0.69627909]\n"
          ],
          "name": "stdout"
        }
      ]
    },
    {
      "cell_type": "code",
      "metadata": {
        "id": "SCWXQZ8LwWiv",
        "outputId": "9d5d451b-7437-4d4d-9c53-280ac6299383",
        "colab": {
          "base_uri": "https://localhost:8080/"
        }
      },
      "source": [
        "# 네트워크 초기화 : 가중치와 편향의 초깃값을 설정해 주는 과정\n",
        "\n",
        "def init_network():\n",
        "    network = {}\n",
        "    network['W1'] = np.array([[0.1, 0.3, 0.5], [0.2, 0.4, 0.6]])\n",
        "    network['b1'] = np.array([0.1, 0.2, 0.3])\n",
        "    network['W2'] = np.array([[0.1, 0.4], [0.2, 0.5], [0.3, 0.6]])\n",
        "    network['b2'] = np.array([0.1, 0.2])\n",
        "    network['W3'] = np.array([[0.1, 0.3], [0.2, 0.4]])\n",
        "    network['b3'] = np.array([0.1, 0.2])\n",
        "    \n",
        "    return network\n",
        "\n",
        "def forward(network, x):\n",
        "    W1, W2, W3 = network['W1'], network['W2'], network['W3']\n",
        "    b1, b2, b3 = network['b1'], network['b2'], network['b3']\n",
        "    \n",
        "    # 1번층 연산\n",
        "    a1 = np.dot(x, W1) + b1\n",
        "    z1 = sigmoid(a1)\n",
        "    \n",
        "    # 2번층 연산\n",
        "    a2 = np.dot(z1, W2) + b2\n",
        "    z2 = sigmoid(a2)\n",
        "    \n",
        "    # 3번층 연산\n",
        "    a3 = np.dot(z2, W3) + b3\n",
        "    y  = identity_function(a3)\n",
        "    \n",
        "    return y\n",
        "\n",
        "## 같은 패턴이니 나중에 class 나 함수로도 만들 수 있을 것\n",
        "\n",
        "network = init_network()\n",
        "x = np.array([1.0, 0.5])\n",
        "y = forward(network, x)\n",
        "print(y)"
      ],
      "execution_count": 73,
      "outputs": [
        {
          "output_type": "stream",
          "text": [
            "[0.31682708 0.69627909]\n"
          ],
          "name": "stdout"
        }
      ]
    },
    {
      "cell_type": "markdown",
      "metadata": {
        "id": "SAmIn8kaxHW4"
      },
      "source": [
        "## 출력층 설계하기\n",
        "소프트맥스 구현"
      ]
    },
    {
      "cell_type": "code",
      "metadata": {
        "id": "hn-8R5wMGQW1",
        "outputId": "9d2e6c8c-b402-40ab-c529-070a940ace84",
        "colab": {
          "base_uri": "https://localhost:8080/"
        }
      },
      "source": [
        "a = np.array([0.3, 2.9, 4.0]) # 입력값\n",
        "exp_a = np.exp(a)\n",
        "exp_a\n",
        "\n",
        "# 분자 a1, a2, a3"
      ],
      "execution_count": 25,
      "outputs": [
        {
          "output_type": "execute_result",
          "data": {
            "text/plain": [
              "array([ 1.34985881, 18.17414537, 54.59815003])"
            ]
          },
          "metadata": {
            "tags": []
          },
          "execution_count": 25
        }
      ]
    },
    {
      "cell_type": "code",
      "metadata": {
        "id": "4g9HEAGBGYc3",
        "outputId": "d86ba288-26e0-4334-9e03-ec61d7045a8e",
        "colab": {
          "base_uri": "https://localhost:8080/"
        }
      },
      "source": [
        "# 분모 만들기\n",
        "sum_exp_a = np.sum(exp_a)\n",
        "sum_exp_a"
      ],
      "execution_count": 26,
      "outputs": [
        {
          "output_type": "execute_result",
          "data": {
            "text/plain": [
              "74.1221542101633"
            ]
          },
          "metadata": {
            "tags": []
          },
          "execution_count": 26
        }
      ]
    },
    {
      "cell_type": "code",
      "metadata": {
        "id": "802K_PQSGuId",
        "outputId": "2aa0c6b1-893d-4350-87b3-1a9eef6c5c8c",
        "colab": {
          "base_uri": "https://localhost:8080/"
        }
      },
      "source": [
        "y = exp_a / sum_exp_a\n",
        "y"
      ],
      "execution_count": 27,
      "outputs": [
        {
          "output_type": "execute_result",
          "data": {
            "text/plain": [
              "array([0.01821127, 0.24519181, 0.73659691])"
            ]
          },
          "metadata": {
            "tags": []
          },
          "execution_count": 27
        }
      ]
    },
    {
      "cell_type": "code",
      "metadata": {
        "id": "ZjhxBd0aG3-t",
        "outputId": "d36987c0-7601-44d8-dee3-c0f664ca8690",
        "colab": {
          "base_uri": "https://localhost:8080/"
        }
      },
      "source": [
        "np.sum(y)"
      ],
      "execution_count": 28,
      "outputs": [
        {
          "output_type": "execute_result",
          "data": {
            "text/plain": [
              "1.0"
            ]
          },
          "metadata": {
            "tags": []
          },
          "execution_count": 28
        }
      ]
    },
    {
      "cell_type": "code",
      "metadata": {
        "id": "LHRdamUiG-Mk"
      },
      "source": [
        "def softmax(a):\n",
        "  exp_a = np.exp(a) # 분자\n",
        "  sum_exp_a = np.sum(exp_a) # 분모\n",
        "  y = exp_a / sum_exp_a # 분자 / 분모\n",
        "\n",
        "  return y"
      ],
      "execution_count": 29,
      "outputs": []
    },
    {
      "cell_type": "code",
      "metadata": {
        "id": "R8QP60BjHcNO",
        "outputId": "103ba5ce-3a7c-423c-a495-58c58019e75c",
        "colab": {
          "base_uri": "https://localhost:8080/"
        }
      },
      "source": [
        "softmax(a)"
      ],
      "execution_count": 30,
      "outputs": [
        {
          "output_type": "execute_result",
          "data": {
            "text/plain": [
              "array([0.01821127, 0.24519181, 0.73659691])"
            ]
          },
          "metadata": {
            "tags": []
          },
          "execution_count": 30
        }
      ]
    },
    {
      "cell_type": "code",
      "metadata": {
        "id": "2d4jQ-gYHlh-",
        "outputId": "be5f9170-7fe0-486a-9430-4e9f4f82caef",
        "colab": {
          "base_uri": "https://localhost:8080/"
        }
      },
      "source": [
        "# 만약 a 가 커져버리면 문제가 발생\n",
        "\n",
        "a = np.array([1010, 1000, 990])\n",
        "a\n"
      ],
      "execution_count": 31,
      "outputs": [
        {
          "output_type": "execute_result",
          "data": {
            "text/plain": [
              "array([1010, 1000,  990])"
            ]
          },
          "metadata": {
            "tags": []
          },
          "execution_count": 31
        }
      ]
    },
    {
      "cell_type": "code",
      "metadata": {
        "id": "rnZNKbkvHsLm",
        "outputId": "65a836d7-b2b0-4a30-870e-b8f9972b9597",
        "colab": {
          "base_uri": "https://localhost:8080/"
        }
      },
      "source": [
        "# 지수함수 라는 특성 때문에 a 의 값이 커져버리면 계산할 수 있는 범위를 넘겨버림\n",
        "# 방법은 로그를 씌어준다. + 곱해줄 상수도 필요\n",
        "\n",
        "softmax(a)"
      ],
      "execution_count": 32,
      "outputs": [
        {
          "output_type": "stream",
          "text": [
            "/usr/local/lib/python3.6/dist-packages/ipykernel_launcher.py:2: RuntimeWarning: overflow encountered in exp\n",
            "  \n",
            "/usr/local/lib/python3.6/dist-packages/ipykernel_launcher.py:4: RuntimeWarning: invalid value encountered in true_divide\n",
            "  after removing the cwd from sys.path.\n"
          ],
          "name": "stderr"
        },
        {
          "output_type": "execute_result",
          "data": {
            "text/plain": [
              "array([nan, nan, nan])"
            ]
          },
          "metadata": {
            "tags": []
          },
          "execution_count": 32
        }
      ]
    },
    {
      "cell_type": "markdown",
      "metadata": {
        "id": "CYmQudr8HtuG"
      },
      "source": [
        "## 향상된 softmax"
      ]
    },
    {
      "cell_type": "code",
      "metadata": {
        "id": "zR1Dh6JzIdZM",
        "outputId": "e41b128f-3f6f-48c9-e9de-23d62b5c65f0",
        "colab": {
          "base_uri": "https://localhost:8080/"
        }
      },
      "source": [
        "# 상수값 C 는 일반적으로 배열에서 가장 큰 값을 사용한다.\n",
        "c = np.max(a)\n",
        "c"
      ],
      "execution_count": 33,
      "outputs": [
        {
          "output_type": "execute_result",
          "data": {
            "text/plain": [
              "1010"
            ]
          },
          "metadata": {
            "tags": []
          },
          "execution_count": 33
        }
      ]
    },
    {
      "cell_type": "code",
      "metadata": {
        "id": "RvK1-cMoIlGj",
        "outputId": "0c9d7b66-2b8e-494d-da08-8895c285db4b",
        "colab": {
          "base_uri": "https://localhost:8080/"
        }
      },
      "source": [
        "# log 를 각 수마다 씌운다는 의미\n",
        "\n",
        "print(a-c)"
      ],
      "execution_count": 34,
      "outputs": [
        {
          "output_type": "stream",
          "text": [
            "[  0 -10 -20]\n"
          ],
          "name": "stdout"
        }
      ]
    },
    {
      "cell_type": "code",
      "metadata": {
        "id": "nGtA-0MPIskO",
        "outputId": "d22887e4-ae33-46ba-a13b-f7d1310ca7db",
        "colab": {
          "base_uri": "https://localhost:8080/"
        }
      },
      "source": [
        "np.exp(a-c) / np.sum(np.exp(a-c))"
      ],
      "execution_count": 35,
      "outputs": [
        {
          "output_type": "execute_result",
          "data": {
            "text/plain": [
              "array([9.99954600e-01, 4.53978686e-05, 2.06106005e-09])"
            ]
          },
          "metadata": {
            "tags": []
          },
          "execution_count": 35
        }
      ]
    },
    {
      "cell_type": "code",
      "metadata": {
        "id": "c8ozzoHpI2eT"
      },
      "source": [
        "# 향상된 softmax 재구현\n",
        "def softmax(a):\n",
        "  c = np.max(a) # 최대값 구하기\n",
        "  exp_a = np.exp(a - c) # logC 를 더한 것과 같은 효과\n",
        "\n",
        "  sum_exp_a = np.sum(exp_a)\n",
        "  y = exp_a / sum_exp_a\n",
        "  \n",
        "  return y"
      ],
      "execution_count": 36,
      "outputs": []
    },
    {
      "cell_type": "code",
      "metadata": {
        "id": "GQXN0XVqJl5R",
        "outputId": "ea3bb181-1f13-4952-8c31-3312743c6f47",
        "colab": {
          "base_uri": "https://localhost:8080/"
        }
      },
      "source": [
        " a = np.array([0.3, 2.9, 4.0]) # 입력값\n",
        " np.sum(softmax(a))"
      ],
      "execution_count": 37,
      "outputs": [
        {
          "output_type": "execute_result",
          "data": {
            "text/plain": [
              "1.0"
            ]
          },
          "metadata": {
            "tags": []
          },
          "execution_count": 37
        }
      ]
    },
    {
      "cell_type": "code",
      "metadata": {
        "id": "1XgZABi1Kgow",
        "outputId": "74dd284c-7239-4c89-ab35-8fbbf2d4f611",
        "colab": {
          "base_uri": "https://localhost:8080/"
        }
      },
      "source": [
        "softmax(a)"
      ],
      "execution_count": 38,
      "outputs": [
        {
          "output_type": "execute_result",
          "data": {
            "text/plain": [
              "array([0.01821127, 0.24519181, 0.73659691])"
            ]
          },
          "metadata": {
            "tags": []
          },
          "execution_count": 38
        }
      ]
    },
    {
      "cell_type": "markdown",
      "metadata": {
        "id": "AHP89C66KyTN"
      },
      "source": [
        "## MNIST 손글씨 데이터셋 사용하기"
      ]
    },
    {
      "cell_type": "code",
      "metadata": {
        "id": "V7MCjiAZLO0a"
      },
      "source": [
        "import tensorflow as tf\n",
        "import matplotlib.pyplot as plt\n",
        "\n",
        "%matplotlib inline"
      ],
      "execution_count": 39,
      "outputs": []
    },
    {
      "cell_type": "code",
      "metadata": {
        "id": "b_X6DEIaMjzH"
      },
      "source": [
        ""
      ],
      "execution_count": 39,
      "outputs": []
    },
    {
      "cell_type": "code",
      "metadata": {
        "id": "tEInJw0EMCbO",
        "outputId": "91df2514-3021-4223-9a40-8d3b528d2ae0",
        "colab": {
          "base_uri": "https://localhost:8080/"
        }
      },
      "source": [
        "from tensorflow.keras import datasets\n",
        "mnist = datasets.mnist\n",
        "\n",
        "(X_train, y_train),(X_test, y_test) = mnist.load_data()"
      ],
      "execution_count": 40,
      "outputs": [
        {
          "output_type": "stream",
          "text": [
            "Downloading data from https://storage.googleapis.com/tensorflow/tf-keras-datasets/mnist.npz\n",
            "11493376/11490434 [==============================] - 0s 0us/step\n"
          ],
          "name": "stdout"
        }
      ]
    },
    {
      "cell_type": "code",
      "metadata": {
        "id": "ZxixJgYuMKx-",
        "outputId": "a71fd5b1-1365-48c4-b02b-5b05d0ac0231",
        "colab": {
          "base_uri": "https://localhost:8080/"
        }
      },
      "source": [
        "X_train.shape, y_train.shape"
      ],
      "execution_count": 41,
      "outputs": [
        {
          "output_type": "execute_result",
          "data": {
            "text/plain": [
              "((60000, 28, 28), (60000,))"
            ]
          },
          "metadata": {
            "tags": []
          },
          "execution_count": 41
        }
      ]
    },
    {
      "cell_type": "code",
      "metadata": {
        "id": "pVwbg9wRMoco",
        "outputId": "e9aa615a-a810-4c23-dee4-aeac6b2e118f",
        "colab": {
          "base_uri": "https://localhost:8080/"
        }
      },
      "source": [
        "X_test.shape, y_test.shape"
      ],
      "execution_count": 42,
      "outputs": [
        {
          "output_type": "execute_result",
          "data": {
            "text/plain": [
              "((10000, 28, 28), (10000,))"
            ]
          },
          "metadata": {
            "tags": []
          },
          "execution_count": 42
        }
      ]
    },
    {
      "cell_type": "code",
      "metadata": {
        "id": "sIc2HX8qMxTE",
        "outputId": "6ec2be79-d186-4569-96c7-03799278e2a7",
        "colab": {
          "base_uri": "https://localhost:8080/"
        }
      },
      "source": [
        "image = X_train[0]\n",
        "image.shape"
      ],
      "execution_count": 43,
      "outputs": [
        {
          "output_type": "execute_result",
          "data": {
            "text/plain": [
              "(28, 28)"
            ]
          },
          "metadata": {
            "tags": []
          },
          "execution_count": 43
        }
      ]
    },
    {
      "cell_type": "code",
      "metadata": {
        "id": "KZRAbbaX14Lb",
        "outputId": "74af6ed4-42e9-49b5-c1b2-c2648e95bbc0",
        "colab": {
          "base_uri": "https://localhost:8080/"
        }
      },
      "source": [
        "image1 = X_test[0]\n",
        "image1.shape"
      ],
      "execution_count": 44,
      "outputs": [
        {
          "output_type": "execute_result",
          "data": {
            "text/plain": [
              "(28, 28)"
            ]
          },
          "metadata": {
            "tags": []
          },
          "execution_count": 44
        }
      ]
    },
    {
      "cell_type": "code",
      "metadata": {
        "id": "iEBswqfBM6-N",
        "outputId": "eae62614-9a7c-4d66-9a2f-7b273fc3a484",
        "colab": {
          "base_uri": "https://localhost:8080/",
          "height": 0
        }
      },
      "source": [
        "plt.imshow(image, 'gray')"
      ],
      "execution_count": 45,
      "outputs": [
        {
          "output_type": "execute_result",
          "data": {
            "text/plain": [
              "<matplotlib.image.AxesImage at 0x7f5d9ec046d8>"
            ]
          },
          "metadata": {
            "tags": []
          },
          "execution_count": 45
        },
        {
          "output_type": "display_data",
          "data": {
            "image/png": "[encoded data removed]",
            "text/plain": [
              "<Figure size 432x288 with 1 Axes>"
            ]
          },
          "metadata": {
            "tags": [],
            "needs_background": "light"
          }
        }
      ]
    },
    {
      "cell_type": "code",
      "metadata": {
        "id": "95qBmuKQNQBH",
        "outputId": "086c0098-ce20-4695-8e0b-0ea55ed3c2fd",
        "colab": {
          "base_uri": "https://localhost:8080/",
          "height": 0
        }
      },
      "source": [
        "image = X_train[1]\n",
        "plt.imshow(image, 'gray')"
      ],
      "execution_count": 46,
      "outputs": [
        {
          "output_type": "execute_result",
          "data": {
            "text/plain": [
              "<matplotlib.image.AxesImage at 0x7f5d9e6d2b38>"
            ]
          },
          "metadata": {
            "tags": []
          },
          "execution_count": 46
        },
        {
          "output_type": "display_data",
          "data": {
            "image/png": "[encoded data removed]",
            "text/plain": [
              "<Figure size 432x288 with 1 Axes>"
            ]
          },
          "metadata": {
            "tags": [],
            "needs_background": "light"
          }
        }
      ]
    },
    {
      "cell_type": "code",
      "metadata": {
        "id": "cLGJCiwGOBMS",
        "outputId": "b0b22456-92d0-40e6-b9c3-5bdeec1f716f",
        "colab": {
          "base_uri": "https://localhost:8080/"
        }
      },
      "source": [
        "y_train[0], y_train[1]"
      ],
      "execution_count": 47,
      "outputs": [
        {
          "output_type": "execute_result",
          "data": {
            "text/plain": [
              "(5, 0)"
            ]
          },
          "metadata": {
            "tags": []
          },
          "execution_count": 47
        }
      ]
    },
    {
      "cell_type": "code",
      "metadata": {
        "id": "6SIkZxgwOH6o",
        "outputId": "e09a1916-6f43-4239-82b7-4b8e40875617",
        "colab": {
          "base_uri": "https://localhost:8080/"
        }
      },
      "source": [
        "image.shape"
      ],
      "execution_count": 48,
      "outputs": [
        {
          "output_type": "execute_result",
          "data": {
            "text/plain": [
              "(28, 28)"
            ]
          },
          "metadata": {
            "tags": []
          },
          "execution_count": 48
        }
      ]
    },
    {
      "cell_type": "code",
      "metadata": {
        "id": "0LwLWOAYOfGa",
        "outputId": "7acfc8dc-c745-4943-9992-7f409b2d723a",
        "colab": {
          "base_uri": "https://localhost:8080/"
        }
      },
      "source": [
        "image = image.reshape(-1) # -1 만 있을때는 1차원 배열을 반환한다.\n",
        "image.shape"
      ],
      "execution_count": 49,
      "outputs": [
        {
          "output_type": "execute_result",
          "data": {
            "text/plain": [
              "(784,)"
            ]
          },
          "metadata": {
            "tags": []
          },
          "execution_count": 49
        }
      ]
    },
    {
      "cell_type": "code",
      "metadata": {
        "id": "o7SR4HojPBMl",
        "outputId": "5f8f398c-8ba6-41b8-fda1-e58b1a613449",
        "colab": {
          "base_uri": "https://localhost:8080/",
          "height": 0
        }
      },
      "source": [
        "image_bokgu = image.reshape(28, 28)\n",
        "plt.imshow(image_bokgu, 'gray')\n",
        "plt.show"
      ],
      "execution_count": 50,
      "outputs": [
        {
          "output_type": "execute_result",
          "data": {
            "text/plain": [
              "<function matplotlib.pyplot.show>"
            ]
          },
          "metadata": {
            "tags": []
          },
          "execution_count": 50
        },
        {
          "output_type": "display_data",
          "data": {
            "image/png": "[encoded data removed]",
            "text/plain": [
              "<Figure size 432x288 with 1 Axes>"
            ]
          },
          "metadata": {
            "tags": [],
            "needs_background": "light"
          }
        }
      ]
    },
    {
      "cell_type": "markdown",
      "metadata": {
        "id": "0pk4iQ41PusO"
      },
      "source": [
        "## MNIST를 위한 신경망 구축하기"
      ]
    },
    {
      "cell_type": "code",
      "metadata": {
        "id": "iSoPj_dvRT1N"
      },
      "source": [
        "# 활성화 함수 구현 ( 시그모이드 )\n",
        "def sigmoid(x):\n",
        "  return 1 / (1 + np.exp(-x))\n",
        "\n",
        "# 테스트 데이터 가져오기\n",
        "def get_test_data():\n",
        "  (X_train, y_train), (X_test, y_test) = mnist.load_data()\n",
        "  image_size = X_test.shape[0]\n",
        "  X_test_reshape = X_test.reshape(image_size, -1)\n",
        "\n",
        "  return X_test_reshape, y_test\n",
        "\n",
        "# 훈련된 신경망 가져오기\n",
        "def init_network():\n",
        "  import pickle\n",
        "  with open(\"./sample_weight.pkl\", 'rb') as f:\n",
        "    network = pickle.load(f)\n",
        "\n",
        "  return network\n",
        "\n",
        "# 예측 함수\n",
        "def predict(network, x):\n",
        "  W1, W2, W3 = network['W1'], network['W2'], network['W3']\n",
        "  b1, b2, b3 = network['b1'], network['b2'], network['b3']\n",
        "\n",
        "# 구현시작\n",
        "# 이전층에서 흘러들어온 데이터와 현재 층의 가중치의 내적을 구하고 편향을 더한다.\n",
        "# 활성화 함수를 입혀준다.\n",
        "\n",
        "# Layer 1 계산\n",
        "  a1 = np.dot(x, W1) + b1\n",
        "  z1 = sigmoid(a1)\n",
        "\n",
        "# Layer 2 계산\n",
        "  a2 = np.dot(z1, W2) + b2\n",
        "  z2 = sigmoid(a2)\n",
        "\n",
        "# Layer 3 출력층 계산 ( 활성화 함수가 softmax )\n",
        "  a3 = np.dot(z2, W3) + b3\n",
        "  y = softmax(a3)\n",
        "\n",
        "  return y"
      ],
      "execution_count": 51,
      "outputs": []
    },
    {
      "cell_type": "code",
      "metadata": {
        "id": "j8xSkfK1ZqUn",
        "outputId": "ae84297f-8034-4727-ce1e-3c454013cca7",
        "colab": {
          "base_uri": "https://localhost:8080/"
        }
      },
      "source": [
        "X, y = get_test_data()\n",
        "X.shape, y.shape"
      ],
      "execution_count": 52,
      "outputs": [
        {
          "output_type": "execute_result",
          "data": {
            "text/plain": [
              "((10000, 784), (10000,))"
            ]
          },
          "metadata": {
            "tags": []
          },
          "execution_count": 52
        }
      ]
    },
    {
      "cell_type": "code",
      "metadata": {
        "id": "wWzGQq3FZ8w3",
        "outputId": "1b4ba47d-6593-404a-a0b4-2cda3aa3c924",
        "colab": {
          "base_uri": "https://localhost:8080/"
        }
      },
      "source": [
        "X.shape, y.shape"
      ],
      "execution_count": 53,
      "outputs": [
        {
          "output_type": "execute_result",
          "data": {
            "text/plain": [
              "((10000, 784), (10000,))"
            ]
          },
          "metadata": {
            "tags": []
          },
          "execution_count": 53
        }
      ]
    },
    {
      "cell_type": "code",
      "metadata": {
        "id": "nF5916EhZ_gM",
        "outputId": "881131d5-a061-47b1-e6f0-afd53fd21107",
        "colab": {
          "base_uri": "https://localhost:8080/"
        }
      },
      "source": [
        "network = init_network()\n",
        "\n",
        "accuracy_cnt = 0 # 맞춘 개수를 저장 ( 정답을 맞추면 1 증가 )\n",
        "\n",
        "\n",
        "# 사진을 한장씩 꺼내기\n",
        "for i in range(len(X)):\n",
        "  pred = predict(network, X[i]) # 사진 한장 당의 softmax 결과가 나옴\n",
        "  pred = np.argmax(pred) # 확률이 가장 높은 원소의 인덱스\n",
        "\n",
        "  if pred == y[i]:\n",
        "    accuracy_cnt += 1\n",
        "\n",
        "print(float(accuracy_cnt) / len(X))\n",
        "\n",
        "# 단점 \n",
        "# 데이터가 많아질수록 시간이 오래 걸리기 때문에 효율적이지 못하다\n",
        "# 해결 : 단위를 크게 해서 한번에 모아서 작업한다. 예) 100개씩 묶어서 진행"
      ],
      "execution_count": 57,
      "outputs": [
        {
          "output_type": "stream",
          "text": [
            "/usr/local/lib/python3.6/dist-packages/ipykernel_launcher.py:3: RuntimeWarning: overflow encountered in exp\n",
            "  This is separate from the ipykernel package so we can avoid doing imports until\n"
          ],
          "name": "stderr"
        },
        {
          "output_type": "stream",
          "text": [
            "0.9207\n"
          ],
          "name": "stdout"
        }
      ]
    },
    {
      "cell_type": "code",
      "metadata": {
        "id": "TiujL7u3TkZA",
        "outputId": "2451bdd6-104d-4b2f-c0ec-acc6d8a762a2",
        "colab": {
          "base_uri": "https://localhost:8080/"
        }
      },
      "source": [
        "X_test.shape"
      ],
      "execution_count": 58,
      "outputs": [
        {
          "output_type": "execute_result",
          "data": {
            "text/plain": [
              "(10000, 28, 28)"
            ]
          },
          "metadata": {
            "tags": []
          },
          "execution_count": 58
        }
      ]
    },
    {
      "cell_type": "code",
      "metadata": {
        "id": "YUnJ3qSlTmN8",
        "outputId": "22c12555-a476-4c2f-c062-51a21ebb0372",
        "colab": {
          "base_uri": "https://localhost:8080/"
        }
      },
      "source": [
        "image_size = X_test.shape[0]\n",
        "image_size"
      ],
      "execution_count": 59,
      "outputs": [
        {
          "output_type": "execute_result",
          "data": {
            "text/plain": [
              "10000"
            ]
          },
          "metadata": {
            "tags": []
          },
          "execution_count": 59
        }
      ]
    },
    {
      "cell_type": "code",
      "metadata": {
        "id": "ijc6yJzyTtdT",
        "outputId": "00dc5305-fe55-4f3a-ff5c-ed022f5a8f21",
        "colab": {
          "base_uri": "https://localhost:8080/"
        }
      },
      "source": [
        "X_test.reshape(image_size, -1).shape"
      ],
      "execution_count": 60,
      "outputs": [
        {
          "output_type": "execute_result",
          "data": {
            "text/plain": [
              "(10000, 784)"
            ]
          },
          "metadata": {
            "tags": []
          },
          "execution_count": 60
        }
      ]
    },
    {
      "cell_type": "markdown",
      "metadata": {
        "id": "t-Wd1dkjU9G-"
      },
      "source": [
        "## 대량의 데이터를 쪼개서 관리하는 배치 처리"
      ]
    },
    {
      "cell_type": "code",
      "metadata": {
        "id": "67qaZvaWhSRN",
        "outputId": "7ef8a7cd-1998-43cc-f441-202e2cec2008",
        "colab": {
          "base_uri": "https://localhost:8080/"
        }
      },
      "source": [
        "x, _ = get_test_data()\n",
        "network = init_network()\n",
        "\n",
        "W1, W2, W3 = network['W1'], network['W2'], network['W3']\n",
        "\n",
        "print(\"입력 데이터의 shape : {}\".format(x.shape))\n",
        "print(\"첫 번째 데이터의 shape : {}\".format(x[0].shape))\n",
        "print(\"가중치 W1의 shape : {}\".format(W1.shape))\n",
        "print(\"가중치 W2의 shape : {}\".format(W2.shape))\n",
        "print(\"가중치 W3의 shape : {}\".format(W3.shape))"
      ],
      "execution_count": 61,
      "outputs": [
        {
          "output_type": "stream",
          "text": [
            "입력 데이터의 shape : (10000, 784)\n",
            "첫 번째 데이터의 shape : (784,)\n",
            "가중치 W1의 shape : (784, 50)\n",
            "가중치 W2의 shape : (50, 100)\n",
            "가중치 W3의 shape : (100, 10)\n"
          ],
          "name": "stdout"
        }
      ]
    },
    {
      "cell_type": "code",
      "metadata": {
        "id": "MJTogQ-xhi1N",
        "outputId": "f42c8423-69f9-4bc9-eef1-e5a517299fb5",
        "colab": {
          "base_uri": "https://localhost:8080/"
        }
      },
      "source": [
        "X, y = get_test_data()\n",
        "network = init_network()\n",
        "\n",
        "# batch 크기 지정\n",
        "# batch란? 데이터 묶음\n",
        "# 예를 들어 10000개의 데이터를 100개의 묶음(batch_size)으로 만들면 100개의 배치가 생긴다.\n",
        "\n",
        "batch_size = 100\n",
        "accuracy_cnt = 0\n",
        "\n",
        "for i in range(0, len(x), batch_size):\n",
        "    x_batch = x[i : i+batch_size] # 순서대로 100개씩 쪼개서 진행\n",
        "    y_batch = predict(network, x_batch) # 데이터를 100개씩 예측\n",
        "    p = np.argmax(y_batch, axis = 1) # 100개의 예측 데이터에서 가장 높은 값의 인덱스를 추출\n",
        "    accuracy_cnt += np.sum( p == y[i : i+batch_size]) # 100개씩 정답의 합을 구함\n",
        "\n",
        "print(\"정확도 : {}\".format(float(accuracy_cnt) / len(x)))"
      ],
      "execution_count": 62,
      "outputs": [
        {
          "output_type": "stream",
          "text": [
            "정확도 : 0.9207\n"
          ],
          "name": "stdout"
        },
        {
          "output_type": "stream",
          "text": [
            "/usr/local/lib/python3.6/dist-packages/ipykernel_launcher.py:3: RuntimeWarning: overflow encountered in exp\n",
            "  This is separate from the ipykernel package so we can avoid doing imports until\n"
          ],
          "name": "stderr"
        }
      ]
    },
    {
      "cell_type": "code",
      "metadata": {
        "id": "tt3fCECUiNvL"
      },
      "source": [
        ""
      ],
      "execution_count": 62,
      "outputs": []
    }
  ]
}