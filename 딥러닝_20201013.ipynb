{
  "nbformat": 4,
  "nbformat_minor": 0,
  "metadata": {
    "colab": {
      "name": "딥러닝 20201013",
      "provenance": []
    },
    "kernelspec": {
      "name": "python3",
      "display_name": "Python 3"
    }
  },
  "cells": [
    {
      "cell_type": "code",
      "metadata": {
        "id": "xOXR4Vkc0MmI"
      },
      "source": [
        "# 딥러닝은 일반 기술이 아닌 학문이라고 한다."
      ],
      "execution_count": 1,
      "outputs": []
    },
    {
      "cell_type": "code",
      "metadata": {
        "id": "PV4WxoRL0dO_"
      },
      "source": [
        "# 곱셈 계층 구현\n",
        "\n",
        "class MulLayer:\n",
        "\n",
        "  # 초기화\n",
        "  # 곱셈 계층으로 들어오고 있는 값을 저장할 변수 만들기\n",
        "  # 저장하는 이유? backward 할 때 각각 반대로 곱해서 리턴해야 하기 때문에\n",
        "\n",
        "  # -> x 방향으로 갈 때는 dout * y\n",
        "  # -> y 방향으로 갈 때는 dout * x\n",
        "  def __init__(self):\n",
        "    self.x = None\n",
        "    self.y = None\n",
        "\n",
        "  # 노드로 들어온 값에 대한 곱을 수행한다.\n",
        "  def forward(self, x, y):\n",
        "    self.x = x\n",
        "    self.y = y\n",
        "    out = x * y\n",
        "    \n",
        "    return out\n",
        "\n",
        "  # 다음 계층에서 역전파된 미분값(dout)에 흘러들어온 x, y 를 각각 바꿔서 곱한 값을 리턴\n",
        "  def backward(self, dout):\n",
        "    # 무조건 미분값이 리턴된다.\n",
        "    dx = dout * self.y\n",
        "    dy = dout * self.x\n",
        "\n",
        "    return dx, dy"
      ],
      "execution_count": 6,
      "outputs": []
    },
    {
      "cell_type": "code",
      "metadata": {
        "id": "9-ZVjyKe0iLR",
        "outputId": "7474b08c-7211-4ca5-9d7c-bfe0ef1a8f1a",
        "colab": {
          "base_uri": "https://localhost:8080/",
          "height": 35
        }
      },
      "source": [
        "# 순전파를 이용해 사과 가격 확인하기\n",
        "apple_price = 100\n",
        "apple_count = 2\n",
        "tax = 1.1\n",
        "\n",
        "mul_apple_layer = MulLayer()\n",
        "mul_tax_layer = MulLayer()\n",
        "\n",
        "# 먼저 사과 가격 곱하기 사과 개수의 결과를 구할 것\n",
        "apple_price_total = mul_apple_layer.forward(apple_price, apple_count)\n",
        "final_apple_price = mul_tax_layer.forward(apple_price_total, tax)\n",
        "\n",
        "final_apple_price"
      ],
      "execution_count": 13,
      "outputs": [
        {
          "output_type": "execute_result",
          "data": {
            "text/plain": [
              "220.00000000000003"
            ]
          },
          "metadata": {
            "tags": []
          },
          "execution_count": 13
        }
      ]
    },
    {
      "cell_type": "code",
      "metadata": {
        "id": "pEM_Jojr3I-H",
        "outputId": "22e80aa9-c468-4968-8a51-bcba893fb838",
        "colab": {
          "base_uri": "https://localhost:8080/",
          "height": 71
        }
      },
      "source": [
        "# 역전파 수행하기\n",
        "dprice = 1 # 최종 가격에 대한 미분. d가격 / d가격 = 1\n",
        "dapple_price, dtax = mul_tax_layer.backward(dprice)\n",
        "dapple, dapple_cnt  = mul_apple_layer.backward(dapple_price)\n",
        "\n",
        "print(\"사과 가격에 대한 미분값 : {}\".format(dapple))\n",
        "print(\"사과 개수에 대한 미분값 : {}\".format(dapple_cnt))\n",
        "print(\"소비세에 대한 미분값 : {}\".format(dtax))"
      ],
      "execution_count": 14,
      "outputs": [
        {
          "output_type": "stream",
          "text": [
            "사과 가격에 대한 미분값 : 2.2\n",
            "사과 개수에 대한 미분값 : 110.00000000000001\n",
            "소비세에 대한 미분값 : 200\n"
          ],
          "name": "stdout"
        }
      ]
    },
    {
      "cell_type": "code",
      "metadata": {
        "id": "f-E_HRBDJCtD"
      },
      "source": [
        "class AddLayer:\n",
        "  # 덧셈 계층의 특징\n",
        "  # 역전파 때 미분값이 들어오면 그대로 입력 신호에 거꾸로 흘려보내준다.\n",
        "\n",
        "  def __init__(self):\n",
        "    # 초기화 과정에서 변수로 입력된 값을 저장할 필요는 없다.\n",
        "    pass\n",
        "\n",
        "  def forward(self, x, y):\n",
        "    out = x + y\n",
        "    return out\n",
        "\n",
        "  def backward(self, dout):\n",
        "    # 곱셈 계층의 코드 모양과 비슷하게 해주기 위해서 1을 곱했음\n",
        "    dx = dout * 1\n",
        "    dy = dout * 1\n",
        "\n",
        "    return dx, dy"
      ],
      "execution_count": 20,
      "outputs": []
    },
    {
      "cell_type": "code",
      "metadata": {
        "id": "SkObWcfsJozI",
        "outputId": "9795fcf0-1060-417a-9dd5-7854c8ba88b3",
        "colab": {
          "base_uri": "https://localhost:8080/",
          "height": 125
        }
      },
      "source": [
        "apple = 100\n",
        "apple_num = 2\n",
        "orange = 150\n",
        "orange_num = 3\n",
        "tax = 1.1\n",
        "\n",
        "# 계층 만들기 각 과일의 개수 * 가격\n",
        "mul_apple_layer = MulLayer()\n",
        "mul_orange_layer = MulLayer()\n",
        "\n",
        "# 각 과일의 가격들을 더해주는 레이어\n",
        "add_apple_orange_layer = AddLayer()\n",
        "\n",
        "# 소비세를 적용시키는 레이어\n",
        "mul_tax_layer = MulLayer()\n",
        "\n",
        "# 순전파 수행\n",
        "apple_price = mul_apple_layer.forward(apple, apple_num)\n",
        "orange_price = mul_orange_layer.forward(orange, orange_num)\n",
        "total_price = add_apple_orange_layer.forward(apple_price, orange_price)\n",
        "price = mul_tax_layer.forward(total_price, tax)\n",
        "\n",
        "# 역전파 수행하기\n",
        "dprice = 1\n",
        "dtotal_price, dtax = mul_tax_layer.backward(dprice)\n",
        "dapple_price, dorange_price = add_apple_orange_layer.backward(dtotal_price)\n",
        "dorange, dorange_num = mul_orange_layer.backward(dorange_price)\n",
        "dapple, dapple_num   = mul_apple_layer.backward(dapple_price)\n",
        "\n",
        "print(\"사과 2개 오렌지 3개의 가격 : {}\".format(price))\n",
        "print(\"사과 개수 미분 : {}\".format(dapple_num))\n",
        "print(\"사과 가격 미분 : {}\".format(dapple))\n",
        "print(\"오렌지 개수 미분 : {}\".format(dorange_num))\n",
        "print(\"오렌지 가격 미분 : {}\".format(dorange))\n",
        "print(\"소비세 미분 : {}\".format(dtax))"
      ],
      "execution_count": 21,
      "outputs": [
        {
          "output_type": "stream",
          "text": [
            "사과 2개 오렌지 3개의 가격 : 715.0000000000001\n",
            "사과 개수 미분 : 110.00000000000001\n",
            "사과 가격 미분 : 2.2\n",
            "오렌지 개수 미분 : 165.0\n",
            "오렌지 가격 미분 : 3.3000000000000003\n",
            "소비세 미분 : 650\n"
          ],
          "name": "stdout"
        }
      ]
    },
    {
      "cell_type": "markdown",
      "metadata": {
        "id": "PFTdUfl_KFFv"
      },
      "source": [
        "## 신경망을 위한 각종 계층 구현하기\n",
        "1. 활성화 함수 계층 구현하기\n",
        " * ReLU\n",
        " * Sigmoid"
      ]
    },
    {
      "cell_type": "code",
      "metadata": {
        "id": "I0dYit7zLxCX",
        "outputId": "2e35bb73-d2e9-4baa-d17b-49af6254a2f3",
        "colab": {
          "base_uri": "https://localhost:8080/",
          "height": 35
        }
      },
      "source": [
        "# ReLU\n",
        "# 음수는 0으로 통일, 양수는 양수 그대로 사용\n",
        "import numpy as np\n",
        "\n",
        "x = np.arange(-5, 5)\n",
        "mask = x <= 0\n",
        "mask\n",
        "\n",
        "x_relu = x.copy()\n",
        "x_relu[mask] = 0\n",
        "x_relu"
      ],
      "execution_count": 27,
      "outputs": [
        {
          "output_type": "execute_result",
          "data": {
            "text/plain": [
              "array([0, 0, 0, 0, 0, 0, 1, 2, 3, 4])"
            ]
          },
          "metadata": {
            "tags": []
          },
          "execution_count": 27
        }
      ]
    },
    {
      "cell_type": "code",
      "metadata": {
        "id": "dYz81YWMMZSv"
      },
      "source": [
        "class RuLU:\n",
        "  \n",
        "  def __init__(self):\n",
        "    self.mask = None\n",
        "  \n",
        "  def forward(self, x):\n",
        "    self.mask = (x <= 0) # 매개변수로 들어온 넘파이배열 x의 원소가 0 이하인지 판단하기\n",
        "    out = x.copy() # 원본 배열 복사 후\n",
        "    out[self.mask] = 0 # 0보다 작은 원소들을 0으로 만들기\n",
        "\n",
        "    return out\n",
        "\n",
        "  # backward 로 들어오는 미분값이 들어있는 배열은\n",
        "  # forward 때와는 다르게 원래 0 이었던 곳에 0 이 아닌 값이 들어갈 수도 있다.\n",
        "  # 따라서 원래 0이었던 곳 ( mask ) 은 전부 0 으로 다시 바꿔준다\n",
        "\n",
        "  def backward(self, dout):\n",
        "\n",
        "    # 미분값들이 들어있는 배열에다가도 마스킹 처리를 한다.\n",
        "    dout[self.mask] = 0 # 상류에서 들어온 값에서 0보다 작은 값들에 대해 0으로 치환\n",
        "    dx = dout # 완성된 ReLU 배열 리턴\n",
        "\n",
        "    return dx"
      ],
      "execution_count": 28,
      "outputs": []
    },
    {
      "cell_type": "code",
      "metadata": {
        "id": "jgXLidBbO0u6"
      },
      "source": [
        "# 시그모이드 계층 만들기\n",
        "# 시그모이드 함수가 y라면, 시그모이드 함수를 미분했을 때는 y(1-y) 이다.\n",
        "# 즉, 순전파 진행 시에 y의 결과값을 저장하고 있으면, 이 값을 그대로 역전파때 활용할 수 있다는 이야기\n",
        "\n",
        "class Sigmoid:\n",
        "  # 순전파 할때 계산되었던 값을 가지고 있는다.\n",
        "  def __init__(self):\n",
        "       self.out = None\n",
        "\n",
        "\n",
        "  def forward(self, x):\n",
        "        out = 1 / ( 1 + np.exp(-x))\n",
        "        self.out = out\n",
        "        \n",
        "        return out\n",
        "    \n",
        "  def backward(self, dout):\n",
        "        dx = dout * (1.0 - self.out) * self.out\n",
        "        \n",
        "        return dx"
      ],
      "execution_count": 33,
      "outputs": []
    },
    {
      "cell_type": "code",
      "metadata": {
        "id": "D8BNoNoBXVuv",
        "outputId": "11182e9d-ec5e-4648-89b4-e14c91cfbfd1",
        "colab": {
          "base_uri": "https://localhost:8080/",
          "height": 53
        }
      },
      "source": [
        "# 전치 행렬\n",
        "X = np.arange(6).reshape(2, 3)\n",
        "X"
      ],
      "execution_count": 34,
      "outputs": [
        {
          "output_type": "execute_result",
          "data": {
            "text/plain": [
              "array([[0, 1, 2],\n",
              "       [3, 4, 5]])"
            ]
          },
          "metadata": {
            "tags": []
          },
          "execution_count": 34
        }
      ]
    },
    {
      "cell_type": "code",
      "metadata": {
        "id": "scrEtazmXsPW",
        "outputId": "ba2cff87-022b-4e4a-8c2f-d9e29d351f7e",
        "colab": {
          "base_uri": "https://localhost:8080/",
          "height": 71
        }
      },
      "source": [
        "X.T"
      ],
      "execution_count": 35,
      "outputs": [
        {
          "output_type": "execute_result",
          "data": {
            "text/plain": [
              "array([[0, 3],\n",
              "       [1, 4],\n",
              "       [2, 5]])"
            ]
          },
          "metadata": {
            "tags": []
          },
          "execution_count": 35
        }
      ]
    },
    {
      "cell_type": "code",
      "metadata": {
        "id": "hI01I9HXXswY"
      },
      "source": [
        "class Affine:\n",
        "  # 초기 가중치, 초기편향 가지고 있기\n",
        "  def __init__(self, W, b):\n",
        "    self.W = W\n",
        "    self.b = b\n",
        "\n",
        "    self.X = None\n",
        "    self.original_x_shape = None # 원본 데이터의 모양을 유지하기 위한 변수\n",
        "    \n",
        "    # 경사하강법을 통해 가중치를 업데이트 해야 해서, 기존 미분값을 알고 있어야 한다.\n",
        "    # 히스토리 남기기\n",
        "    self.dW = None\n",
        "    self.db = None\n",
        "    \n",
        "\n",
        "  def forward(self, X):\n",
        "    self.original_x_shape = X.shape # 데이터의 원본형상 저장\n",
        "    X = x.reshape(x.shape[0], -1) # 데이터를 1차원으로 변경\n",
        "    self.X = X\n",
        "    out = np.dot(self.X, self.W) + self.b\n",
        "\n",
        "    return out\n",
        "\n",
        "  def backward(self, dout):\n",
        "    dx = np.dot(dout, self.W.T)\n",
        "\n",
        "    # W 의 입력 신호 방향으로 흘러나가는 값은 입력값의 전치행렬 * 미분값\n",
        "    self.dW = np.dot(self.X.T, dout)\n",
        "    self.db = np.sum(dout, axis=0)\n",
        "    \n",
        "    dx = dx.reshape(*self.original_x_shape) # 입력 데이터 모양을 원래대로 변경 ( 텐서 대응 )\n",
        "\n",
        "    return dx"
      ],
      "execution_count": 41,
      "outputs": []
    },
    {
      "cell_type": "code",
      "metadata": {
        "id": "YDhSsmjgX4Hu",
        "outputId": "9c393a57-4e9f-4552-bc34-76fb0a0dad0b",
        "colab": {
          "base_uri": "https://localhost:8080/",
          "height": 197
        }
      },
      "source": [
        "! unzip common.zip"
      ],
      "execution_count": 42,
      "outputs": [
        {
          "output_type": "stream",
          "text": [
            "Archive:  common.zip\n",
            "  inflating: functions.py            \n",
            "  inflating: gradient.py             \n",
            "  inflating: layers.py               \n",
            "  inflating: multi_layer_net.py      \n",
            "  inflating: multi_layer_net_extend.py  \n",
            "  inflating: optimizer.py            \n",
            "  inflating: trainer.py              \n",
            "  inflating: util.py                 \n",
            " extracting: __init__.py             \n"
          ],
          "name": "stdout"
        }
      ]
    },
    {
      "cell_type": "code",
      "metadata": {
        "id": "4_DBBGRvejQX"
      },
      "source": [
        "# coding: utf-8\n",
        "import sys, os\n",
        "sys.path.append(os.pardir)  # 부모 디렉터리의 파일을 가져올 수 있도록 설정\n",
        "import numpy as np\n",
        "from common.layers import *\n",
        "from common.gradient import numerical_gradient\n",
        "from collections import OrderedDict"
      ],
      "execution_count": 43,
      "outputs": []
    },
    {
      "cell_type": "code",
      "metadata": {
        "id": "a9EeoVaJe2Pt"
      },
      "source": [
        "class TwoLayerNet:\n",
        "\n",
        "    def __init__(self, input_size, hidden_size, output_size, weight_init_std = 0.01):\n",
        "        # 가중치 초기화\n",
        "        self.params = {}\n",
        "        self.params['W1'] = weight_init_std * np.random.randn(input_size, hidden_size)\n",
        "        self.params['b1'] = np.zeros(hidden_size)\n",
        "        self.params['W2'] = weight_init_std * np.random.randn(hidden_size, output_size) \n",
        "        self.params['b2'] = np.zeros(output_size)\n",
        "\n",
        "        # 계층 생성\n",
        "        self.layers = OrderedDict()\n",
        "        self.layers['Affine1'] = Affine(self.params['W1'], self.params['b1'])\n",
        "        self.layers['Relu1'] = Relu()\n",
        "        self.layers['Affine2'] = Affine(self.params['W2'], self.params['b2'])\n",
        "\n",
        "        self.lastLayer = SoftmaxWithLoss()\n",
        "        \n",
        "    def predict(self, x):\n",
        "        for layer in self.layers.values():\n",
        "            x = layer.forward(x)\n",
        "        \n",
        "        return x\n",
        "        \n",
        "    # x : 입력 데이터, t : 정답 레이블\n",
        "    def loss(self, x, t):\n",
        "        y = self.predict(x)\n",
        "        return self.lastLayer.forward(y, t)\n",
        "    \n",
        "    def accuracy(self, x, t):\n",
        "        y = self.predict(x)\n",
        "        y = np.argmax(y, axis=1)\n",
        "        if t.ndim != 1 : t = np.argmax(t, axis=1)\n",
        "        \n",
        "        accuracy = np.sum(y == t) / float(x.shape[0])\n",
        "        return accuracy\n",
        "        \n",
        "    # x : 입력 데이터, t : 정답 레이블\n",
        "    def numerical_gradient(self, x, t):\n",
        "        loss_W = lambda W: self.loss(x, t)\n",
        "        \n",
        "        grads = {}\n",
        "        grads['W1'] = numerical_gradient(loss_W, self.params['W1'])\n",
        "        grads['b1'] = numerical_gradient(loss_W, self.params['b1'])\n",
        "        grads['W2'] = numerical_gradient(loss_W, self.params['W2'])\n",
        "        grads['b2'] = numerical_gradient(loss_W, self.params['b2'])\n",
        "        \n",
        "        return grads\n",
        "        \n",
        "    def gradient(self, x, t):\n",
        "        # 순전파\n",
        "        self.loss(x, t)\n",
        "\n",
        "        # 역전파\n",
        "        dout = 1 # 마지막 계층의 미분값 설정\n",
        "        dout = self.lastLayer.backward(dout) # 마지막 계층에서의 미분값 전달 받기 (SoftMaxWithLoss에서 받음)\n",
        "        \n",
        "        layers = list(self.layers.values()) # 저장된 레이어를 불러와서 ( 여기서는 순차적인 레이어가 저장 되어 있음 )\n",
        "        layers.reverse() # 뒤집음(뒤에서 부터 전달해야 하기 때문에 )\n",
        "        \n",
        "        # 뒤에서 부터 역전파\n",
        "        for layer in layers:\n",
        "            dout = layer.backward(dout)\n",
        "\n",
        "        # 결과 저장\n",
        "        grads = {}\n",
        "        grads['W1'], grads['b1'] = self.layers['Affine1'].dW, self.layers['Affine1'].db\n",
        "        grads['W2'], grads['b2'] = self.layers['Affine2'].dW, self.layers['Affine2'].db\n",
        "\n",
        "        return grads"
      ],
      "execution_count": 54,
      "outputs": []
    },
    {
      "cell_type": "code",
      "metadata": {
        "id": "H-tx_JbMhhBn",
        "outputId": "b1941a96-7f9d-464c-9581-c06398cc51bf",
        "colab": {
          "base_uri": "https://localhost:8080/",
          "height": 53
        }
      },
      "source": [
        "!pip download dataset"
      ],
      "execution_count": 57,
      "outputs": [
        {
          "output_type": "stream",
          "text": [
            "\u001b[31mERROR: Could not find a version that satisfies the requirement dataset.mnist (from versions: none)\u001b[0m\n",
            "\u001b[31mERROR: No matching distribution found for dataset.mnist\u001b[0m\n"
          ],
          "name": "stdout"
        }
      ]
    },
    {
      "cell_type": "code",
      "metadata": {
        "id": "exaix8ZAffV-",
        "outputId": "7f433e61-1d0b-4422-b0de-887f9e136e7c",
        "colab": {
          "base_uri": "https://localhost:8080/",
          "height": 89
        }
      },
      "source": [
        "import sys, os\n",
        "sys.path.append(os.pardir)\n",
        "from tensorflow.keras import datasets\n",
        "mnist = datasets.mnist\n",
        "\n",
        "(X_train, y_train), (X_test, y_test) = mnist.load_data()\n",
        "network = TwoLayerNet(input_size=28*28, hidden_size=50, output_size=10)\n",
        "\n",
        "X_batch = X_train[:3]\n",
        "t_batch = y_train[:3]\n",
        "\n",
        "grad_numerical = network.numerical_gradient(X_batch, t_batch)\n",
        "grad_backpop   = network.gradient(X_batch, t_batch)\n",
        "\n",
        "# 각 가중치의 차이의 절댓값을 구하고 그 절댓값들의 평균을 낸다.\n",
        "for key in grad_numerical.keys():\n",
        "    diff = np.average(np.abs(grad_backpop[key] - grad_numerical[key]))\n",
        "    print(key + \" : {}\".format(diff))"
      ],
      "execution_count": 61,
      "outputs": [
        {
          "output_type": "stream",
          "text": [
            "W1 : 5.590728656240972e-07\n",
            "b1 : 1.8890104108975486e-08\n",
            "W2 : 6.547201369793953e-06\n",
            "b2 : 8.565896433089526e-07\n"
          ],
          "name": "stdout"
        }
      ]
    },
    {
      "cell_type": "code",
      "metadata": {
        "id": "9TmragIchVMe"
      },
      "source": [
        ""
      ],
      "execution_count": null,
      "outputs": []
    }
  ]
}