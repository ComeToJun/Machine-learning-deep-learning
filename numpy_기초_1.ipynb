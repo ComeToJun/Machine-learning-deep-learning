{
  "nbformat": 4,
  "nbformat_minor": 0,
  "metadata": {
    "colab": {
      "name": "numpy 기초 1",
      "provenance": [],
      "collapsed_sections": []
    },
    "kernelspec": {
      "name": "python3",
      "display_name": "Python 3"
    }
  },
  "cells": [
    {
      "cell_type": "code",
      "metadata": {
        "id": "_pemt_7meTqK"
      },
      "source": [
        "import numpy as np\n",
        "\n",
        "# 수학적인 연산을 위한 것\n",
        "# 배열과 관련된 것들을 쉽고 빠르게 계산 가능\n",
        "# 함수를 외워서 사용하는 것이라고 생각하면 될 것"
      ],
      "execution_count": 201,
      "outputs": []
    },
    {
      "cell_type": "code",
      "metadata": {
        "id": "yEoujSn2f59l",
        "outputId": "3cfea4b7-201a-434b-bf38-26d6693639b4",
        "colab": {
          "base_uri": "https://localhost:8080/",
          "height": 35
        }
      },
      "source": [
        "# numpy 배열은 일반 array 가 아닌, ndarray 라고 한다.\n",
        "# 특징은 숫자 데이터만 들어간다는 것, 텍스트 데이터는 들어갈 수 없다.\n",
        "\n",
        "arr1 = np.array([1, 2, 3])\n",
        "\n",
        "# 1차원 배열 벡터\n",
        "print(type(arr1))"
      ],
      "execution_count": 202,
      "outputs": [
        {
          "output_type": "stream",
          "text": [
            "<class 'numpy.ndarray'>\n"
          ],
          "name": "stdout"
        }
      ]
    },
    {
      "cell_type": "code",
      "metadata": {
        "id": "A-SVbmf2hD5H",
        "outputId": "71208103-e6eb-44c5-bea5-57cbbfd5a251",
        "colab": {
          "base_uri": "https://localhost:8080/",
          "height": 53
        }
      },
      "source": [
        "arr2 = np.array([[1,2,3],\n",
        "                [4,5,6]])\n",
        "\n",
        "print(arr2)\n",
        "# 2차원 배열 메트릭스\n",
        "# 3차원부터 텐서 라고 한다.\n",
        "\n",
        "# ndarray 는 실제로 잘 사용되진 않는다."
      ],
      "execution_count": 203,
      "outputs": [
        {
          "output_type": "stream",
          "text": [
            "[[1 2 3]\n",
            " [4 5 6]]\n"
          ],
          "name": "stdout"
        }
      ]
    },
    {
      "cell_type": "code",
      "metadata": {
        "id": "uz7E7mOUhGbM",
        "outputId": "74a054cd-7ee4-4d93-9f0c-c0be03c2cb3d",
        "colab": {
          "base_uri": "https://localhost:8080/",
          "height": 35
        }
      },
      "source": [
        "# np.arange\n",
        "\n",
        "arr = np.arange(10)\n",
        "arr\n",
        "\n",
        "# numpy 와 list 의 차이를 잘 알아둘 것."
      ],
      "execution_count": 204,
      "outputs": [
        {
          "output_type": "execute_result",
          "data": {
            "text/plain": [
              "array([0, 1, 2, 3, 4, 5, 6, 7, 8, 9])"
            ]
          },
          "metadata": {
            "tags": []
          },
          "execution_count": 204
        }
      ]
    },
    {
      "cell_type": "code",
      "metadata": {
        "id": "OIqnQGobiEGc",
        "outputId": "af924671-ea62-419b-8204-d4fc33921ec3",
        "colab": {
          "base_uri": "https://localhost:8080/",
          "height": 35
        }
      },
      "source": [
        "arr = np.arange(1, 10)\n",
        "arr"
      ],
      "execution_count": 205,
      "outputs": [
        {
          "output_type": "execute_result",
          "data": {
            "text/plain": [
              "array([1, 2, 3, 4, 5, 6, 7, 8, 9])"
            ]
          },
          "metadata": {
            "tags": []
          },
          "execution_count": 205
        }
      ]
    },
    {
      "cell_type": "code",
      "metadata": {
        "id": "zdrRFL-liYbt",
        "outputId": "1dadaf66-daa2-4493-bdc4-e87488659b2c",
        "colab": {
          "base_uri": "https://localhost:8080/",
          "height": 35
        }
      },
      "source": [
        "arr = np.arange(1,10, 2)\n",
        "arr"
      ],
      "execution_count": 206,
      "outputs": [
        {
          "output_type": "execute_result",
          "data": {
            "text/plain": [
              "array([1, 3, 5, 7, 9])"
            ]
          },
          "metadata": {
            "tags": []
          },
          "execution_count": 206
        }
      ]
    },
    {
      "cell_type": "markdown",
      "metadata": {
        "id": "AQJKwneQixZ7"
      },
      "source": [
        "# **다차원** 배열 만들기\n",
        "*   np.zeros\n",
        "*   np.ones\n",
        "*   np.full\n",
        "\n",
        "\n",
        "\n",
        "\n"
      ]
    },
    {
      "cell_type": "code",
      "metadata": {
        "id": "z9aSjFgRihMV",
        "outputId": "7780a634-21a0-42e8-b9f0-e39ef7c76614",
        "colab": {
          "base_uri": "https://localhost:8080/",
          "height": 35
        }
      },
      "source": [
        "np.zeros(5)"
      ],
      "execution_count": 207,
      "outputs": [
        {
          "output_type": "execute_result",
          "data": {
            "text/plain": [
              "array([0., 0., 0., 0., 0.])"
            ]
          },
          "metadata": {
            "tags": []
          },
          "execution_count": 207
        }
      ]
    },
    {
      "cell_type": "code",
      "metadata": {
        "id": "ZSVzGRdki_8l",
        "outputId": "aecbf6fd-8f6b-4062-8658-e63d323f9d63",
        "colab": {
          "base_uri": "https://localhost:8080/",
          "height": 89
        }
      },
      "source": [
        "np.zeros((4,5))"
      ],
      "execution_count": 208,
      "outputs": [
        {
          "output_type": "execute_result",
          "data": {
            "text/plain": [
              "array([[0., 0., 0., 0., 0.],\n",
              "       [0., 0., 0., 0., 0.],\n",
              "       [0., 0., 0., 0., 0.],\n",
              "       [0., 0., 0., 0., 0.]])"
            ]
          },
          "metadata": {
            "tags": []
          },
          "execution_count": 208
        }
      ]
    },
    {
      "cell_type": "code",
      "metadata": {
        "id": "LrptIibkjOss",
        "outputId": "80659cde-1de6-4fb2-b9b4-d72ef31d77ae",
        "colab": {
          "base_uri": "https://localhost:8080/",
          "height": 269
        }
      },
      "source": [
        "np.zeros((3,4,5))\n",
        "# 3차원 배열"
      ],
      "execution_count": 209,
      "outputs": [
        {
          "output_type": "execute_result",
          "data": {
            "text/plain": [
              "array([[[0., 0., 0., 0., 0.],\n",
              "        [0., 0., 0., 0., 0.],\n",
              "        [0., 0., 0., 0., 0.],\n",
              "        [0., 0., 0., 0., 0.]],\n",
              "\n",
              "       [[0., 0., 0., 0., 0.],\n",
              "        [0., 0., 0., 0., 0.],\n",
              "        [0., 0., 0., 0., 0.],\n",
              "        [0., 0., 0., 0., 0.]],\n",
              "\n",
              "       [[0., 0., 0., 0., 0.],\n",
              "        [0., 0., 0., 0., 0.],\n",
              "        [0., 0., 0., 0., 0.],\n",
              "        [0., 0., 0., 0., 0.]]])"
            ]
          },
          "metadata": {
            "tags": []
          },
          "execution_count": 209
        }
      ]
    },
    {
      "cell_type": "code",
      "metadata": {
        "id": "Quc1hMxWjQP0",
        "outputId": "29f6d4b0-527a-4000-cdce-bcac99038fd3",
        "colab": {
          "base_uri": "https://localhost:8080/",
          "height": 35
        }
      },
      "source": [
        "np.zeros((3,4,5,6)).shape\n",
        "\n",
        "# 보통 3차원 이상부터는 이렇게 확인만 한다"
      ],
      "execution_count": 210,
      "outputs": [
        {
          "output_type": "execute_result",
          "data": {
            "text/plain": [
              "(3, 4, 5, 6)"
            ]
          },
          "metadata": {
            "tags": []
          },
          "execution_count": 210
        }
      ]
    },
    {
      "cell_type": "code",
      "metadata": {
        "id": "QKQ7apYqjcYN",
        "outputId": "584cd446-8962-4427-d258-5bc8ea3f398e",
        "colab": {
          "base_uri": "https://localhost:8080/",
          "height": 35
        }
      },
      "source": [
        "np.zeros((3,4,5)).ndim\n",
        "#차원 수 확인하기"
      ],
      "execution_count": 211,
      "outputs": [
        {
          "output_type": "execute_result",
          "data": {
            "text/plain": [
              "3"
            ]
          },
          "metadata": {
            "tags": []
          },
          "execution_count": 211
        }
      ]
    },
    {
      "cell_type": "code",
      "metadata": {
        "id": "YLO8RdwrjniN",
        "outputId": "ce31796e-32d3-453d-e134-a350c82a5379",
        "colab": {
          "base_uri": "https://localhost:8080/",
          "height": 35
        }
      },
      "source": [
        "np.ones(5)\n",
        "\n",
        "# 데이터를 1로 채워준다"
      ],
      "execution_count": 212,
      "outputs": [
        {
          "output_type": "execute_result",
          "data": {
            "text/plain": [
              "array([1., 1., 1., 1., 1.])"
            ]
          },
          "metadata": {
            "tags": []
          },
          "execution_count": 212
        }
      ]
    },
    {
      "cell_type": "code",
      "metadata": {
        "id": "yRra4YkSjzbs",
        "outputId": "0f0e945f-5a35-4eb8-9507-a43f986da39a",
        "colab": {
          "base_uri": "https://localhost:8080/",
          "height": 53
        }
      },
      "source": [
        "np.ones((2,3))\n",
        "\n",
        "# 1로 채워진 2차원 배열"
      ],
      "execution_count": 213,
      "outputs": [
        {
          "output_type": "execute_result",
          "data": {
            "text/plain": [
              "array([[1., 1., 1.],\n",
              "       [1., 1., 1.]])"
            ]
          },
          "metadata": {
            "tags": []
          },
          "execution_count": 213
        }
      ]
    },
    {
      "cell_type": "code",
      "metadata": {
        "id": "BtPM2YLMj7A0",
        "outputId": "2bd83dde-5a1a-4ecc-a9b2-bd49d1af664d",
        "colab": {
          "base_uri": "https://localhost:8080/",
          "height": 53
        }
      },
      "source": [
        "np.ones((2, 3)) * 5\n",
        "\n",
        "# 5로 채워진 2차원 배열을 만드는 방법"
      ],
      "execution_count": 214,
      "outputs": [
        {
          "output_type": "execute_result",
          "data": {
            "text/plain": [
              "array([[5., 5., 5.],\n",
              "       [5., 5., 5.]])"
            ]
          },
          "metadata": {
            "tags": []
          },
          "execution_count": 214
        }
      ]
    },
    {
      "cell_type": "code",
      "metadata": {
        "id": "STIAnRkEkGJl",
        "outputId": "9baff579-68d6-467a-924f-5191a9a11436",
        "colab": {
          "base_uri": "https://localhost:8080/",
          "height": 71
        }
      },
      "source": [
        "np.full((3, 4), 7)\n",
        "\n",
        "# 3행 4열의 행렬을 7로 채우겠다. \n",
        "# 위에 있는 방법과 다른 방법 but 같은 결과"
      ],
      "execution_count": 215,
      "outputs": [
        {
          "output_type": "execute_result",
          "data": {
            "text/plain": [
              "array([[7, 7, 7, 7],\n",
              "       [7, 7, 7, 7],\n",
              "       [7, 7, 7, 7]])"
            ]
          },
          "metadata": {
            "tags": []
          },
          "execution_count": 215
        }
      ]
    },
    {
      "cell_type": "markdown",
      "metadata": {
        "id": "z5BzOmywkjAP"
      },
      "source": [
        "## 단위행렬 만들기 \n",
        "# np.eye"
      ]
    },
    {
      "cell_type": "code",
      "metadata": {
        "id": "oBbTi4b8krtx",
        "outputId": "2f8cf644-2a0a-4afa-aa30-b1713a8d62ff",
        "colab": {
          "base_uri": "https://localhost:8080/",
          "height": 71
        }
      },
      "source": [
        "np.eye(3)\n",
        "\n",
        "# 주로 선형대수에서 많이 사용한다."
      ],
      "execution_count": 216,
      "outputs": [
        {
          "output_type": "execute_result",
          "data": {
            "text/plain": [
              "array([[1., 0., 0.],\n",
              "       [0., 1., 0.],\n",
              "       [0., 0., 1.]])"
            ]
          },
          "metadata": {
            "tags": []
          },
          "execution_count": 216
        }
      ]
    },
    {
      "cell_type": "code",
      "metadata": {
        "id": "78d0sen7ktSt",
        "outputId": "57e8784e-f564-48c7-f797-3cbed19d8c20",
        "colab": {
          "base_uri": "https://localhost:8080/",
          "height": 71
        }
      },
      "source": [
        "np.eye(3,4)\n",
        "\n",
        "# 가능하지만, 잘 사용되지 않는다."
      ],
      "execution_count": 217,
      "outputs": [
        {
          "output_type": "execute_result",
          "data": {
            "text/plain": [
              "array([[1., 0., 0., 0.],\n",
              "       [0., 1., 0., 0.],\n",
              "       [0., 0., 1., 0.]])"
            ]
          },
          "metadata": {
            "tags": []
          },
          "execution_count": 217
        }
      ]
    },
    {
      "cell_type": "markdown",
      "metadata": {
        "id": "7br3eezwkxd8"
      },
      "source": [
        "## 구간 나누기 np.linspace"
      ]
    },
    {
      "cell_type": "code",
      "metadata": {
        "id": "cn3pKj3zk9cd",
        "outputId": "04074102-5b3e-48ea-9da2-755a4f7188b2",
        "colab": {
          "base_uri": "https://localhost:8080/",
          "height": 35
        }
      },
      "source": [
        "np.linspace(1, 10, 3)\n",
        "\n",
        "# 1부터 10까지 3등분\n",
        "# 균등한 x축을 만들때 필요\n",
        "# 시각화 할때 필요"
      ],
      "execution_count": 218,
      "outputs": [
        {
          "output_type": "execute_result",
          "data": {
            "text/plain": [
              "array([ 1. ,  5.5, 10. ])"
            ]
          },
          "metadata": {
            "tags": []
          },
          "execution_count": 218
        }
      ]
    },
    {
      "cell_type": "code",
      "metadata": {
        "id": "eYEmf5wMk_Ek",
        "outputId": "92237713-7a5b-4838-f808-69fa03ef01ab",
        "colab": {
          "base_uri": "https://localhost:8080/",
          "height": 35
        }
      },
      "source": [
        "np.linspace(1, 10, 4)"
      ],
      "execution_count": 219,
      "outputs": [
        {
          "output_type": "execute_result",
          "data": {
            "text/plain": [
              "array([ 1.,  4.,  7., 10.])"
            ]
          },
          "metadata": {
            "tags": []
          },
          "execution_count": 219
        }
      ]
    },
    {
      "cell_type": "code",
      "metadata": {
        "id": "UMnfAKfBlJs-",
        "outputId": "0a98974f-f13c-4edb-8072-bf0fcafda888",
        "colab": {
          "base_uri": "https://localhost:8080/",
          "height": 35
        }
      },
      "source": [
        "np.linspace(1, 10, 5)"
      ],
      "execution_count": 220,
      "outputs": [
        {
          "output_type": "execute_result",
          "data": {
            "text/plain": [
              "array([ 1.  ,  3.25,  5.5 ,  7.75, 10.  ])"
            ]
          },
          "metadata": {
            "tags": []
          },
          "execution_count": 220
        }
      ]
    },
    {
      "cell_type": "markdown",
      "metadata": {
        "id": "Tg7h2r9XlOeM"
      },
      "source": [
        "# Random을 사용하기 위한 numpy\n",
        "\n",
        "\n",
        "랜덤값은 초기화를 하기 위해 사용합니다"
      ]
    },
    {
      "cell_type": "code",
      "metadata": {
        "id": "oBkUYSvllgiL",
        "outputId": "9df7b1f4-0e55-469c-f81f-8afc7e58477e",
        "colab": {
          "base_uri": "https://localhost:8080/",
          "height": 431
        }
      },
      "source": [
        "# 0 에서 1 사이의 랜덤값\n",
        "np.random.rand(4, 5, 3)"
      ],
      "execution_count": 221,
      "outputs": [
        {
          "output_type": "execute_result",
          "data": {
            "text/plain": [
              "array([[[0.31435598, 0.50857069, 0.90756647],\n",
              "        [0.24929223, 0.41038292, 0.75555114],\n",
              "        [0.22879817, 0.07697991, 0.28975145],\n",
              "        [0.16122129, 0.92969765, 0.80812038],\n",
              "        [0.63340376, 0.87146059, 0.80367208]],\n",
              "\n",
              "       [[0.18657006, 0.892559  , 0.53934224],\n",
              "        [0.80744016, 0.8960913 , 0.31800347],\n",
              "        [0.11005192, 0.22793516, 0.42710779],\n",
              "        [0.81801477, 0.86073058, 0.00695213],\n",
              "        [0.5107473 , 0.417411  , 0.22210781]],\n",
              "\n",
              "       [[0.11986537, 0.33761517, 0.9429097 ],\n",
              "        [0.32320293, 0.51879062, 0.70301896],\n",
              "        [0.3636296 , 0.97178208, 0.96244729],\n",
              "        [0.2517823 , 0.49724851, 0.30087831],\n",
              "        [0.28484049, 0.03688695, 0.60956433]],\n",
              "\n",
              "       [[0.50267902, 0.05147875, 0.27864646],\n",
              "        [0.90826589, 0.23956189, 0.14489487],\n",
              "        [0.48945276, 0.98565045, 0.24205527],\n",
              "        [0.67213555, 0.76161962, 0.23763754],\n",
              "        [0.72821635, 0.36778313, 0.63230583]]])"
            ]
          },
          "metadata": {
            "tags": []
          },
          "execution_count": 221
        }
      ]
    },
    {
      "cell_type": "code",
      "metadata": {
        "id": "ROjhKaQEl6RN",
        "outputId": "97b785a9-e676-4918-d155-f268ababc54f",
        "colab": {
          "base_uri": "https://localhost:8080/",
          "height": 53
        }
      },
      "source": [
        "# 정규분포로 이루어진 랜덤값 생성하기\n",
        "# 중요!\n",
        "\n",
        "np.random.randn(10)"
      ],
      "execution_count": 222,
      "outputs": [
        {
          "output_type": "execute_result",
          "data": {
            "text/plain": [
              "array([-0.29900735,  0.58685709,  2.19045563, -0.99053633, -0.56629773,\n",
              "        0.09965137, -0.50347565, -1.55066343,  0.06856297, -1.06230371])"
            ]
          },
          "metadata": {
            "tags": []
          },
          "execution_count": 222
        }
      ]
    },
    {
      "cell_type": "code",
      "metadata": {
        "id": "VItakhiJmOaO",
        "outputId": "1016d004-94b9-4915-faa5-b586b6bc59b4",
        "colab": {
          "base_uri": "https://localhost:8080/",
          "height": 269
        }
      },
      "source": [
        "np.random.randn(3, 4, 2)"
      ],
      "execution_count": 223,
      "outputs": [
        {
          "output_type": "execute_result",
          "data": {
            "text/plain": [
              "array([[[ 0.47359243, -0.91942423],\n",
              "        [ 1.54993441, -0.78325329],\n",
              "        [-0.32206152,  0.81351722],\n",
              "        [-1.23086432,  0.22745993]],\n",
              "\n",
              "       [[ 1.30714275, -1.60748323],\n",
              "        [ 0.18463386,  0.25988279],\n",
              "        [ 0.78182287, -1.23695071],\n",
              "        [-1.32045661,  0.52194157]],\n",
              "\n",
              "       [[ 0.29698467,  0.25049285],\n",
              "        [ 0.34644821, -0.68002472],\n",
              "        [ 0.2322537 ,  0.29307247],\n",
              "        [-0.71435142,  1.86577451]]])"
            ]
          },
          "metadata": {
            "tags": []
          },
          "execution_count": 223
        }
      ]
    },
    {
      "cell_type": "code",
      "metadata": {
        "id": "7KOiSCi0mfUc",
        "outputId": "3052d26e-e055-4ced-d464-eee73ea9f20e",
        "colab": {
          "base_uri": "https://localhost:8080/",
          "height": 35
        }
      },
      "source": [
        "# 정수 랜덤 배열 만들기\n",
        "np.random.randint(1, 100, size=(5,)) # size 는 형상을 의미"
      ],
      "execution_count": 224,
      "outputs": [
        {
          "output_type": "execute_result",
          "data": {
            "text/plain": [
              "array([80, 61, 41, 33, 68])"
            ]
          },
          "metadata": {
            "tags": []
          },
          "execution_count": 224
        }
      ]
    },
    {
      "cell_type": "code",
      "metadata": {
        "id": "ybX5SY-snIlP",
        "outputId": "d95af4a1-d57e-464b-fbf8-3e24fc1c8ac2",
        "colab": {
          "base_uri": "https://localhost:8080/",
          "height": 107
        }
      },
      "source": [
        "np.random.randint(1, 100, size=(5,1)) # size 는 형상을 의미\n",
        "# , 가 들어가면 2차원 배열로 출력"
      ],
      "execution_count": 225,
      "outputs": [
        {
          "output_type": "execute_result",
          "data": {
            "text/plain": [
              "array([[33],\n",
              "       [14],\n",
              "       [21],\n",
              "       [48],\n",
              "       [20]])"
            ]
          },
          "metadata": {
            "tags": []
          },
          "execution_count": 225
        }
      ]
    },
    {
      "cell_type": "code",
      "metadata": {
        "id": "VQF52HwsmyTM",
        "outputId": "7525256d-1f56-40a1-ab68-cfbb71b94a98",
        "colab": {
          "base_uri": "https://localhost:8080/",
          "height": 431
        }
      },
      "source": [
        "np.random.randint(1, 100, size=(4,5,4))"
      ],
      "execution_count": 226,
      "outputs": [
        {
          "output_type": "execute_result",
          "data": {
            "text/plain": [
              "array([[[ 8,  7, 67, 17],\n",
              "        [33, 48, 76, 59],\n",
              "        [86, 22, 30, 38],\n",
              "        [51, 54,  8, 27],\n",
              "        [27, 98, 21, 30]],\n",
              "\n",
              "       [[97, 28, 64, 97],\n",
              "        [69, 61, 48, 19],\n",
              "        [ 4, 35, 64, 49],\n",
              "        [17, 44, 92, 30],\n",
              "        [93, 46,  6, 99]],\n",
              "\n",
              "       [[37, 24, 93, 46],\n",
              "        [53, 95, 99, 60],\n",
              "        [97, 63, 85, 32],\n",
              "        [87, 33, 67, 18],\n",
              "        [25, 95, 54, 58]],\n",
              "\n",
              "       [[67, 46, 24, 32],\n",
              "        [47, 86, 23, 66],\n",
              "        [27,  2, 90, 17],\n",
              "        [33,  9, 43, 48],\n",
              "        [39, 93, 42, 26]]])"
            ]
          },
          "metadata": {
            "tags": []
          },
          "execution_count": 226
        }
      ]
    },
    {
      "cell_type": "code",
      "metadata": {
        "id": "a3-nG_rNm5-k",
        "outputId": "2cee5592-98e2-42c6-9a59-12d192e14607",
        "colab": {
          "base_uri": "https://localhost:8080/",
          "height": 71
        }
      },
      "source": [
        "# 랜덤 고정하기 seed 부여\n",
        "np.random.seed(42)\n",
        "np.random.randn(3,4)"
      ],
      "execution_count": 227,
      "outputs": [
        {
          "output_type": "execute_result",
          "data": {
            "text/plain": [
              "array([[ 0.49671415, -0.1382643 ,  0.64768854,  1.52302986],\n",
              "       [-0.23415337, -0.23413696,  1.57921282,  0.76743473],\n",
              "       [-0.46947439,  0.54256004, -0.46341769, -0.46572975]])"
            ]
          },
          "metadata": {
            "tags": []
          },
          "execution_count": 227
        }
      ]
    },
    {
      "cell_type": "code",
      "metadata": {
        "id": "5ZiTw05Dnh-1",
        "outputId": "dae3f822-1f0f-4bca-d1d6-c39a55ecb383",
        "colab": {
          "base_uri": "https://localhost:8080/",
          "height": 71
        }
      },
      "source": [
        "# 1차원 배열에서 랜덤 샘플링 하기 - choice\n",
        "# 중요!\n",
        "\n",
        "np.random.choice(100, size=(3,4)) # 0 ~ 99 까지의 숫자 중 랜덤하게 3 ,4 형식의 배열을 만들기\n",
        "\n",
        "# 밑의 방법보다는 여기 방법을 더 자주 사용"
      ],
      "execution_count": 228,
      "outputs": [
        {
          "output_type": "execute_result",
          "data": {
            "text/plain": [
              "array([[75, 57, 21, 88],\n",
              "       [48, 90, 58, 41],\n",
              "       [91, 59, 79, 14]])"
            ]
          },
          "metadata": {
            "tags": []
          },
          "execution_count": 228
        }
      ]
    },
    {
      "cell_type": "code",
      "metadata": {
        "id": "44xU2bYFn8uo",
        "outputId": "3b99cfbd-1338-4d59-e9ad-5ad0db23301e",
        "colab": {
          "base_uri": "https://localhost:8080/",
          "height": 53
        }
      },
      "source": [
        "arr = np.array([1, 2, 3, 4.5, 8.1, 9.0, 11])\n",
        "\n",
        "np.random.choice(arr, size=(2,2), replace=False) # replace가 True면 중복 추출 허용, False 면 중복 추출 불허용"
      ],
      "execution_count": 229,
      "outputs": [
        {
          "output_type": "execute_result",
          "data": {
            "text/plain": [
              "array([[1. , 2. ],\n",
              "       [8.1, 4.5]])"
            ]
          },
          "metadata": {
            "tags": []
          },
          "execution_count": 229
        }
      ]
    },
    {
      "cell_type": "code",
      "metadata": {
        "id": "snoh_r4tooEH",
        "outputId": "e51ff91e-3b8f-475a-9a38-b796d67b7a7b",
        "colab": {
          "base_uri": "https://localhost:8080/",
          "height": 89
        }
      },
      "source": [
        "# 확률 분포에 따른 ndarray 생성하기\n",
        "\n",
        "# uniform : 균등분포\n",
        "arr = np.random.uniform(1.0, 3.0, size=(4, 5)) # 1~3까지 4행 5열의 랜덤값을 생성한다.\n",
        "arr"
      ],
      "execution_count": 230,
      "outputs": [
        {
          "output_type": "execute_result",
          "data": {
            "text/plain": [
              "array([[2.18482914, 1.09290083, 2.2150897 , 1.34104825, 1.13010319],\n",
              "       [2.89777107, 2.93126407, 2.6167947 , 1.60922754, 1.19534423],\n",
              "       [2.36846605, 1.88030499, 1.24407647, 1.99035382, 1.06877704],\n",
              "       [2.8186408 , 1.51755996, 2.32504457, 1.62342215, 2.04013604]])"
            ]
          },
          "metadata": {
            "tags": []
          },
          "execution_count": 230
        }
      ]
    },
    {
      "cell_type": "code",
      "metadata": {
        "id": "9E8SDf7apDPQ",
        "outputId": "d4c28f34-8f59-4891-ee41-6bf85cc1e33b",
        "colab": {
          "base_uri": "https://localhost:8080/",
          "height": 71
        }
      },
      "source": [
        "# normal 또는 randn : 정규분포\n",
        "# 좋은 기준을 위한 분포, 그래프\n",
        "\n",
        "np.random.normal(size=(3,4))\n",
        "np.random.randn(3,4)"
      ],
      "execution_count": 231,
      "outputs": [
        {
          "output_type": "execute_result",
          "data": {
            "text/plain": [
              "array([[ 0.32408397, -0.38508228, -0.676922  ,  0.61167629],\n",
              "       [ 1.03099952,  0.93128012, -0.83921752, -0.30921238],\n",
              "       [ 0.33126343,  0.97554513, -0.47917424, -0.18565898]])"
            ]
          },
          "metadata": {
            "tags": []
          },
          "execution_count": 231
        }
      ]
    },
    {
      "cell_type": "code",
      "metadata": {
        "id": "3QyUriGIpLlc",
        "outputId": "cf9e6067-7630-4e19-e604-339b30388526",
        "colab": {
          "base_uri": "https://localhost:8080/",
          "height": 35
        }
      },
      "source": [
        "x = np.arange(10)\n",
        "x"
      ],
      "execution_count": 232,
      "outputs": [
        {
          "output_type": "execute_result",
          "data": {
            "text/plain": [
              "array([0, 1, 2, 3, 4, 5, 6, 7, 8, 9])"
            ]
          },
          "metadata": {
            "tags": []
          },
          "execution_count": 232
        }
      ]
    },
    {
      "cell_type": "code",
      "metadata": {
        "id": "3BEG-wskp_Ru",
        "outputId": "5ce6cbcf-438e-4002-9cf4-37fa54fc5ede",
        "colab": {
          "base_uri": "https://localhost:8080/",
          "height": 35
        }
      },
      "source": [
        "# 파이썬에서의 인덱스 자리를 해당 숫자로 바꾸는 방법\n",
        "\n",
        "x[3] = 100\n",
        "x"
      ],
      "execution_count": 233,
      "outputs": [
        {
          "output_type": "execute_result",
          "data": {
            "text/plain": [
              "array([  0,   1,   2, 100,   4,   5,   6,   7,   8,   9])"
            ]
          },
          "metadata": {
            "tags": []
          },
          "execution_count": 233
        }
      ]
    },
    {
      "cell_type": "code",
      "metadata": {
        "id": "Pci9iR4MqD3k",
        "outputId": "0307c7ac-1447-4e4a-ca4d-847144e50d14",
        "colab": {
          "base_uri": "https://localhost:8080/",
          "height": 53
        }
      },
      "source": [
        "# reshape 은 많이 중요함 제대로 기억해둘 것\n",
        "\n",
        "x = x.reshape(2, 5)\n",
        "x"
      ],
      "execution_count": 234,
      "outputs": [
        {
          "output_type": "execute_result",
          "data": {
            "text/plain": [
              "array([[  0,   1,   2, 100,   4],\n",
              "       [  5,   6,   7,   8,   9]])"
            ]
          },
          "metadata": {
            "tags": []
          },
          "execution_count": 234
        }
      ]
    },
    {
      "cell_type": "code",
      "metadata": {
        "id": "UJ5aegKzqNvU",
        "outputId": "1de5370b-49c0-43c5-c0c9-03ef1fb89db9",
        "colab": {
          "base_uri": "https://localhost:8080/",
          "height": 53
        }
      },
      "source": [
        "# reshaep 결과값에 있는 100 을 다시 3으로 바꾸고 싶을때\n",
        "\n",
        "x[0][3] = 3\n",
        "x"
      ],
      "execution_count": 235,
      "outputs": [
        {
          "output_type": "execute_result",
          "data": {
            "text/plain": [
              "array([[0, 1, 2, 3, 4],\n",
              "       [5, 6, 7, 8, 9]])"
            ]
          },
          "metadata": {
            "tags": []
          },
          "execution_count": 235
        }
      ]
    },
    {
      "cell_type": "code",
      "metadata": {
        "id": "UGqiTWP68KGZ",
        "outputId": "c119ce41-4eec-4969-b162-686019ae225f",
        "colab": {
          "base_uri": "https://localhost:8080/",
          "height": 35
        }
      },
      "source": [
        "# numpy 에서 가능한 방법\n",
        "\n",
        "x[0,3]"
      ],
      "execution_count": 236,
      "outputs": [
        {
          "output_type": "execute_result",
          "data": {
            "text/plain": [
              "3"
            ]
          },
          "metadata": {
            "tags": []
          },
          "execution_count": 236
        }
      ]
    },
    {
      "cell_type": "code",
      "metadata": {
        "id": "AFqqgo5H9ByU",
        "outputId": "66f7764c-6288-4fb7-e2a8-97eb889e1cd5",
        "colab": {
          "base_uri": "https://localhost:8080/",
          "height": 53
        }
      },
      "source": [
        "# 전체 행\n",
        "\n",
        "x[:, ]"
      ],
      "execution_count": 237,
      "outputs": [
        {
          "output_type": "execute_result",
          "data": {
            "text/plain": [
              "array([[0, 1, 2, 3, 4],\n",
              "       [5, 6, 7, 8, 9]])"
            ]
          },
          "metadata": {
            "tags": []
          },
          "execution_count": 237
        }
      ]
    },
    {
      "cell_type": "code",
      "metadata": {
        "id": "77dClgDp9Lz7",
        "outputId": "f8da4f94-c8bd-4551-e36a-420751aa9593",
        "colab": {
          "base_uri": "https://localhost:8080/",
          "height": 35
        }
      },
      "source": [
        "# 전체 행에서 인덱스가 2 인 것만 따로 빼내는 방법\n",
        "\n",
        "x[:, 2]"
      ],
      "execution_count": 238,
      "outputs": [
        {
          "output_type": "execute_result",
          "data": {
            "text/plain": [
              "array([2, 7])"
            ]
          },
          "metadata": {
            "tags": []
          },
          "execution_count": 238
        }
      ]
    },
    {
      "cell_type": "code",
      "metadata": {
        "id": "2UMR6Jj49TTD",
        "outputId": "ecd64d6c-ed6d-4989-ee76-0eef6eac344c",
        "colab": {
          "base_uri": "https://localhost:8080/",
          "height": 269
        }
      },
      "source": [
        "# 0 에서 35까지의 수 를 3차원 배열로 표현\n",
        "# 3차원 배열은 1개\n",
        "# 2차원 배열은 3개\n",
        "# 1차원 배열은 12개 \n",
        "# 1차원이 담고있는 수는 3개(씩)\n",
        "\n",
        "# 3차원 배열이 담고 있는 2차원 배열이 3개, 2차원 배열이 담고있는 1차원 배열이 4개, \n",
        "# 1차원 배열이 담고있는 스칼라(0차원 배열)가 3개(씩) \n",
        "# 그래서 3, 4, 3\n",
        "\n",
        "x = np.arange(36).reshape(3,4,3)\n",
        "x"
      ],
      "execution_count": 239,
      "outputs": [
        {
          "output_type": "execute_result",
          "data": {
            "text/plain": [
              "array([[[ 0,  1,  2],\n",
              "        [ 3,  4,  5],\n",
              "        [ 6,  7,  8],\n",
              "        [ 9, 10, 11]],\n",
              "\n",
              "       [[12, 13, 14],\n",
              "        [15, 16, 17],\n",
              "        [18, 19, 20],\n",
              "        [21, 22, 23]],\n",
              "\n",
              "       [[24, 25, 26],\n",
              "        [27, 28, 29],\n",
              "        [30, 31, 32],\n",
              "        [33, 34, 35]]])"
            ]
          },
          "metadata": {
            "tags": []
          },
          "execution_count": 239
        }
      ]
    },
    {
      "cell_type": "code",
      "metadata": {
        "id": "bC0xv8KG-R5_",
        "outputId": "d6f7fbf6-0f6e-41eb-a2ef-154c719bd870",
        "colab": {
          "base_uri": "https://localhost:8080/",
          "height": 35
        }
      },
      "source": [
        "x.ndim"
      ],
      "execution_count": 240,
      "outputs": [
        {
          "output_type": "execute_result",
          "data": {
            "text/plain": [
              "3"
            ]
          },
          "metadata": {
            "tags": []
          },
          "execution_count": 240
        }
      ]
    },
    {
      "cell_type": "code",
      "metadata": {
        "id": "AkbtLvlV-iuj",
        "outputId": "f451a13d-49a7-4ff5-b88b-7d0ac7ebab9f",
        "colab": {
          "base_uri": "https://localhost:8080/",
          "height": 161
        }
      },
      "source": [
        "# 3차원(인덱스로 선택 자체가 불가능) \n",
        "# 2차원 배열 전체에서 1차원 배열에 대한 0,1 번째를 선택하고, 1차원 배열의 전체를 가져오게 하겠다. \n",
        "\n",
        "x[:, :2, :]"
      ],
      "execution_count": 241,
      "outputs": [
        {
          "output_type": "execute_result",
          "data": {
            "text/plain": [
              "array([[[ 0,  1,  2],\n",
              "        [ 3,  4,  5]],\n",
              "\n",
              "       [[12, 13, 14],\n",
              "        [15, 16, 17]],\n",
              "\n",
              "       [[24, 25, 26],\n",
              "        [27, 28, 29]]])"
            ]
          },
          "metadata": {
            "tags": []
          },
          "execution_count": 241
        }
      ]
    },
    {
      "cell_type": "code",
      "metadata": {
        "id": "9vzwi3oD_OIz",
        "outputId": "3e3e14ee-cb56-40f4-fd4b-0bc877584efc",
        "colab": {
          "base_uri": "https://localhost:8080/",
          "height": 179
        }
      },
      "source": [
        "# (...) 해당 차원 이후의 모든 데이터를 가져올때 사용하는 것\n",
        "\n",
        "x[:2, ...]"
      ],
      "execution_count": 242,
      "outputs": [
        {
          "output_type": "execute_result",
          "data": {
            "text/plain": [
              "array([[[ 0,  1,  2],\n",
              "        [ 3,  4,  5],\n",
              "        [ 6,  7,  8],\n",
              "        [ 9, 10, 11]],\n",
              "\n",
              "       [[12, 13, 14],\n",
              "        [15, 16, 17],\n",
              "        [18, 19, 20],\n",
              "        [21, 22, 23]]])"
            ]
          },
          "metadata": {
            "tags": []
          },
          "execution_count": 242
        }
      ]
    },
    {
      "cell_type": "code",
      "metadata": {
        "id": "wystjgw5AI2M",
        "outputId": "0442cea2-31c1-4236-bb92-fb970d543884",
        "colab": {
          "base_uri": "https://localhost:8080/",
          "height": 71
        }
      },
      "source": [
        "x = np.arange(12).reshape(3, 4)\n",
        "x"
      ],
      "execution_count": 243,
      "outputs": [
        {
          "output_type": "execute_result",
          "data": {
            "text/plain": [
              "array([[ 0,  1,  2,  3],\n",
              "       [ 4,  5,  6,  7],\n",
              "       [ 8,  9, 10, 11]])"
            ]
          },
          "metadata": {
            "tags": []
          },
          "execution_count": 243
        }
      ]
    },
    {
      "cell_type": "code",
      "metadata": {
        "id": "k2mhxWemAfTf",
        "outputId": "01262c1b-29bb-46ee-bf8e-1732839ae672",
        "colab": {
          "base_uri": "https://localhost:8080/",
          "height": 35
        }
      },
      "source": [
        "# 2차원 배열\n",
        "\n",
        "x.shape"
      ],
      "execution_count": 244,
      "outputs": [
        {
          "output_type": "execute_result",
          "data": {
            "text/plain": [
              "(3, 4)"
            ]
          },
          "metadata": {
            "tags": []
          },
          "execution_count": 244
        }
      ]
    },
    {
      "cell_type": "code",
      "metadata": {
        "id": "iAyVDWRsAmNG",
        "outputId": "771f8031-acbb-4b1c-c921-dca8aee2f9fa",
        "colab": {
          "base_uri": "https://localhost:8080/",
          "height": 35
        }
      },
      "source": [
        "# 원래의 2차원에서 4차원으로 만든다.\n",
        "\n",
        "x2 = x[np.newaxis, :, :, np.newaxis]\n",
        "x2.shape"
      ],
      "execution_count": 245,
      "outputs": [
        {
          "output_type": "execute_result",
          "data": {
            "text/plain": [
              "(1, 3, 4, 1)"
            ]
          },
          "metadata": {
            "tags": []
          },
          "execution_count": 245
        }
      ]
    },
    {
      "cell_type": "code",
      "metadata": {
        "id": "h8Ga-LZkAv73",
        "outputId": "a8bdd7a8-34ce-4a17-bc96-831f0491102e",
        "colab": {
          "base_uri": "https://localhost:8080/",
          "height": 269
        }
      },
      "source": [
        "x2"
      ],
      "execution_count": 246,
      "outputs": [
        {
          "output_type": "execute_result",
          "data": {
            "text/plain": [
              "array([[[[ 0],\n",
              "         [ 1],\n",
              "         [ 2],\n",
              "         [ 3]],\n",
              "\n",
              "        [[ 4],\n",
              "         [ 5],\n",
              "         [ 6],\n",
              "         [ 7]],\n",
              "\n",
              "        [[ 8],\n",
              "         [ 9],\n",
              "         [10],\n",
              "         [11]]]])"
            ]
          },
          "metadata": {
            "tags": []
          },
          "execution_count": 246
        }
      ]
    },
    {
      "cell_type": "code",
      "metadata": {
        "id": "Sre0DnMZBI5D",
        "outputId": "65c4cdbe-8383-4524-c48f-14fc96e303d1",
        "colab": {
          "base_uri": "https://localhost:8080/",
          "height": 35
        }
      },
      "source": [
        "# 2차원까지는 행렬이지만 3차원부터는 행렬 개념이 들어가지 않는다.\n",
        "\n",
        "x3 = x[np.newaxis, ... , np.newaxis]\n",
        "x3.shape"
      ],
      "execution_count": 247,
      "outputs": [
        {
          "output_type": "execute_result",
          "data": {
            "text/plain": [
              "(1, 3, 4, 1)"
            ]
          },
          "metadata": {
            "tags": []
          },
          "execution_count": 247
        }
      ]
    },
    {
      "cell_type": "code",
      "metadata": {
        "id": "pbWNQ8g7Bdeh",
        "outputId": "c29ebfb4-98db-4b19-a748-fe16786c3d63",
        "colab": {
          "base_uri": "https://localhost:8080/",
          "height": 35
        }
      },
      "source": [
        "# 1 을 날려버리기\n",
        "\n",
        "x4 = np.squeeze(x3)\n",
        "x4.shape"
      ],
      "execution_count": 248,
      "outputs": [
        {
          "output_type": "execute_result",
          "data": {
            "text/plain": [
              "(3, 4)"
            ]
          },
          "metadata": {
            "tags": []
          },
          "execution_count": 248
        }
      ]
    },
    {
      "cell_type": "markdown",
      "metadata": {
        "id": "VHT09hM9CHhW"
      },
      "source": [
        "## 배열의 형상 바꾸기\n",
        "\n",
        "\n",
        "*   ravel()\n",
        "*   flatten()\n",
        "*   reshape()\n",
        "\n"
      ]
    },
    {
      "cell_type": "code",
      "metadata": {
        "id": "zUiRaqUICps7",
        "outputId": "4e1c55c5-b660-41cc-da0e-93bc96f8362f",
        "colab": {
          "base_uri": "https://localhost:8080/",
          "height": 71
        }
      },
      "source": [
        "# ravel flatten 평탄화 작업 효과는 같음\n",
        "# 다른점은 복사본을 만들어내는지 아닌지\n",
        "\n",
        "x = np.arange(15).reshape(3, 5)\n",
        "x"
      ],
      "execution_count": 249,
      "outputs": [
        {
          "output_type": "execute_result",
          "data": {
            "text/plain": [
              "array([[ 0,  1,  2,  3,  4],\n",
              "       [ 5,  6,  7,  8,  9],\n",
              "       [10, 11, 12, 13, 14]])"
            ]
          },
          "metadata": {
            "tags": []
          },
          "execution_count": 249
        }
      ]
    },
    {
      "cell_type": "code",
      "metadata": {
        "id": "wNdAdOQFC5JC",
        "outputId": "89261045-49dd-41a0-a5b5-3135a08e7121",
        "colab": {
          "base_uri": "https://localhost:8080/",
          "height": 35
        }
      },
      "source": [
        "# 배열을 풀어내주는 효과\n",
        "temp = np.ravel(x)\n",
        "print(temp)"
      ],
      "execution_count": 250,
      "outputs": [
        {
          "output_type": "stream",
          "text": [
            "[ 0  1  2  3  4  5  6  7  8  9 10 11 12 13 14]\n"
          ],
          "name": "stdout"
        }
      ]
    },
    {
      "cell_type": "code",
      "metadata": {
        "id": "tkLHjkADC6SM",
        "outputId": "fb325f99-52a7-4188-ba34-2e0966428ffd",
        "colab": {
          "base_uri": "https://localhost:8080/",
          "height": 89
        }
      },
      "source": [
        "# temp 를 바꿨는데, x 도 같이 바뀜\n",
        "# 참조\n",
        "# 평탄화된 모습만 갖고 옴\n",
        "# ravel 의 특징\n",
        "# flatten 은 새로운 배열을 다시 만들어냄\n",
        "temp[0] = 100\n",
        "print(temp)\n",
        "print(x)"
      ],
      "execution_count": 251,
      "outputs": [
        {
          "output_type": "stream",
          "text": [
            "[100   1   2   3   4   5   6   7   8   9  10  11  12  13  14]\n",
            "[[100   1   2   3   4]\n",
            " [  5   6   7   8   9]\n",
            " [ 10  11  12  13  14]]\n"
          ],
          "name": "stdout"
        }
      ]
    },
    {
      "cell_type": "code",
      "metadata": {
        "id": "IiENJW0lDWQH",
        "outputId": "c50b8cbf-7589-4115-c19d-7b93a9adfe5d",
        "colab": {
          "base_uri": "https://localhost:8080/",
          "height": 89
        }
      },
      "source": [
        "y = np.arange(15).reshape(3, 5)   # reshape 를 했을때 데이터 안의 개수가 상 원본과 같아야 한다.\n",
        "temp2 = y.flatten()\n",
        "print(temp)\n",
        "print(y)"
      ],
      "execution_count": 252,
      "outputs": [
        {
          "output_type": "stream",
          "text": [
            "[100   1   2   3   4   5   6   7   8   9  10  11  12  13  14]\n",
            "[[ 0  1  2  3  4]\n",
            " [ 5  6  7  8  9]\n",
            " [10 11 12 13 14]]\n"
          ],
          "name": "stdout"
        }
      ]
    },
    {
      "cell_type": "code",
      "metadata": {
        "id": "MNhRBVAzD2Ld",
        "outputId": "a885bb54-742d-44bb-a059-2b2a07667fac",
        "colab": {
          "base_uri": "https://localhost:8080/",
          "height": 89
        }
      },
      "source": [
        "# temp2 의 값을 바꾼다고 해도 y 와 temp2 의 값이 다르다\n",
        "\n",
        "temp2[0] = 100\n",
        "\n",
        "print(temp2)\n",
        "print(y)"
      ],
      "execution_count": 253,
      "outputs": [
        {
          "output_type": "stream",
          "text": [
            "[100   1   2   3   4   5   6   7   8   9  10  11  12  13  14]\n",
            "[[ 0  1  2  3  4]\n",
            " [ 5  6  7  8  9]\n",
            " [10 11 12 13 14]]\n"
          ],
          "name": "stdout"
        }
      ]
    },
    {
      "cell_type": "code",
      "metadata": {
        "id": "igh15PnBEA4W",
        "outputId": "6b889763-58c7-41d9-8467-ec193f8d18ad",
        "colab": {
          "base_uri": "https://localhost:8080/",
          "height": 35
        }
      },
      "source": [
        "# 개수가 안맞으면 진행 할 수 없음\n",
        "\n",
        "t = x.reshape(1, 3, 5, 1)\n",
        "t.shape"
      ],
      "execution_count": 254,
      "outputs": [
        {
          "output_type": "execute_result",
          "data": {
            "text/plain": [
              "(1, 3, 5, 1)"
            ]
          },
          "metadata": {
            "tags": []
          },
          "execution_count": 254
        }
      ]
    },
    {
      "cell_type": "code",
      "metadata": {
        "id": "y3ef0MXHEmie",
        "outputId": "9606f867-e901-44d6-d567-e89a870c8c7c",
        "colab": {
          "base_uri": "https://localhost:8080/",
          "height": 161
        }
      },
      "source": [
        "x = np.arange(36).reshape(3,2,6)\n",
        "x"
      ],
      "execution_count": 255,
      "outputs": [
        {
          "output_type": "execute_result",
          "data": {
            "text/plain": [
              "array([[[ 0,  1,  2,  3,  4,  5],\n",
              "        [ 6,  7,  8,  9, 10, 11]],\n",
              "\n",
              "       [[12, 13, 14, 15, 16, 17],\n",
              "        [18, 19, 20, 21, 22, 23]],\n",
              "\n",
              "       [[24, 25, 26, 27, 28, 29],\n",
              "        [30, 31, 32, 33, 34, 35]]])"
            ]
          },
          "metadata": {
            "tags": []
          },
          "execution_count": 255
        }
      ]
    },
    {
      "cell_type": "code",
      "metadata": {
        "id": "Naj6Hx4JIr3f",
        "outputId": "41f018b7-e43f-4252-da4e-f44641704f05",
        "colab": {
          "base_uri": "https://localhost:8080/",
          "height": 35
        }
      },
      "source": [
        "temp = x.reshape(3,4,3)\n",
        "temp.shape"
      ],
      "execution_count": 256,
      "outputs": [
        {
          "output_type": "execute_result",
          "data": {
            "text/plain": [
              "(3, 4, 3)"
            ]
          },
          "metadata": {
            "tags": []
          },
          "execution_count": 256
        }
      ]
    },
    {
      "cell_type": "code",
      "metadata": {
        "id": "5Kny2jgkJC-2",
        "outputId": "43bcc5be-604f-417e-f74c-82ade70f878f",
        "colab": {
          "base_uri": "https://localhost:8080/",
          "height": 35
        }
      },
      "source": [
        "temp = x.reshape(3,4,-1) # -1 을 넣어주면 자기가 알아서 계산해줌\n",
        "temp.shape"
      ],
      "execution_count": 257,
      "outputs": [
        {
          "output_type": "execute_result",
          "data": {
            "text/plain": [
              "(3, 4, 3)"
            ]
          },
          "metadata": {
            "tags": []
          },
          "execution_count": 257
        }
      ]
    },
    {
      "cell_type": "code",
      "metadata": {
        "id": "tE90zJW5JPyy",
        "outputId": "1510705d-18cc-43e9-9e08-367cf0a13653",
        "colab": {
          "base_uri": "https://localhost:8080/",
          "height": 35
        }
      },
      "source": [
        "temp = x.reshape(3,-1,3) # -1 을 넣어주면 자기가 알아서 계산해줌\n",
        "temp.shape"
      ],
      "execution_count": 258,
      "outputs": [
        {
          "output_type": "execute_result",
          "data": {
            "text/plain": [
              "(3, 4, 3)"
            ]
          },
          "metadata": {
            "tags": []
          },
          "execution_count": 258
        }
      ]
    },
    {
      "cell_type": "code",
      "metadata": {
        "id": "MMMB4z14JXFC",
        "outputId": "4256cb33-a048-4cda-eee3-169d4b8a0ee1",
        "colab": {
          "base_uri": "https://localhost:8080/",
          "height": 190
        }
      },
      "source": [
        "temp = x.reshape(-1,-1,3) # -1 을 넣어주면 자기가 알아서 계산해줌, 단 -1 은 한번만 들어갈 수 있음\n",
        "temp.shape"
      ],
      "execution_count": 259,
      "outputs": [
        {
          "output_type": "error",
          "ename": "ValueError",
          "evalue": "ignored",
          "traceback": [
            "\u001b[0;31m---------------------------------------------------------------------------\u001b[0m",
            "\u001b[0;31mValueError\u001b[0m                                Traceback (most recent call last)",
            "\u001b[0;32m<ipython-input-259-19b241ef008e>\u001b[0m in \u001b[0;36m<module>\u001b[0;34m()\u001b[0m\n\u001b[0;32m----> 1\u001b[0;31m \u001b[0mtemp\u001b[0m \u001b[0;34m=\u001b[0m \u001b[0mx\u001b[0m\u001b[0;34m.\u001b[0m\u001b[0mreshape\u001b[0m\u001b[0;34m(\u001b[0m\u001b[0;34m-\u001b[0m\u001b[0;36m1\u001b[0m\u001b[0;34m,\u001b[0m\u001b[0;34m-\u001b[0m\u001b[0;36m1\u001b[0m\u001b[0;34m,\u001b[0m\u001b[0;36m3\u001b[0m\u001b[0;34m)\u001b[0m \u001b[0;31m# -1 을 넣어주면 자기가 알아서 계산해줌, 단 -1 은 한번만 들어갈 수 있음\u001b[0m\u001b[0;34m\u001b[0m\u001b[0;34m\u001b[0m\u001b[0m\n\u001b[0m\u001b[1;32m      2\u001b[0m \u001b[0mtemp\u001b[0m\u001b[0;34m.\u001b[0m\u001b[0mshape\u001b[0m\u001b[0;34m\u001b[0m\u001b[0;34m\u001b[0m\u001b[0m\n",
            "\u001b[0;31mValueError\u001b[0m: can only specify one unknown dimension"
          ]
        }
      ]
    },
    {
      "cell_type": "markdown",
      "metadata": {
        "id": "E_8xHOyQJjcw"
      },
      "source": [
        "## 브로드캐스팅\n",
        "Shape 이 다른 두 ndarray에 대한 연산을 진행 한다"
      ]
    },
    {
      "cell_type": "code",
      "metadata": {
        "id": "jvahMu3-LZDZ"
      },
      "source": [
        "# Shape 같을 때의 연산\n",
        "# 2개는 Shape 자체는 같다.\n",
        "\n",
        "x = np.arange(15).reshape(3, 5)\n",
        "y = np.random.randn(15).reshape(3, 5)\n",
        "\n",
        "print(x)\n",
        "print(y)"
      ],
      "execution_count": null,
      "outputs": []
    },
    {
      "cell_type": "code",
      "metadata": {
        "id": "CXMF5IlFMakF"
      },
      "source": [
        "x + y"
      ],
      "execution_count": null,
      "outputs": []
    },
    {
      "cell_type": "code",
      "metadata": {
        "id": "rTzFD5y0Mdpl"
      },
      "source": [
        "x * y"
      ],
      "execution_count": null,
      "outputs": []
    },
    {
      "cell_type": "code",
      "metadata": {
        "id": "dwt1o5McMoVr"
      },
      "source": [
        "x * 2  # 스칼라값을 곱하면 자동으로 곱해지는 스칼라값이 브로드 캐스팅 된다."
      ],
      "execution_count": null,
      "outputs": []
    },
    {
      "cell_type": "code",
      "metadata": {
        "id": "8FqEnXvrMwnX"
      },
      "source": [
        "# Shape 다를 때의 연산\n",
        "# 브로드 캐스팅은 뒤에 있는 숫자만 맞다면 가능\n",
        "# 브로드 캐스팅은 행이 1개만 있을때 가능\n",
        "\n",
        "a = np.arange(12).reshape(4, 3)\n",
        "b = np.arange(100, 103)\n",
        "c = np.arange(1000, 1004)\n",
        "d = b.reshape(1, 3)\n",
        "\n",
        "print(a.shape)\n",
        "print(b.shape)\n",
        "print(c.shape)\n",
        "print(d.shape)"
      ],
      "execution_count": null,
      "outputs": []
    },
    {
      "cell_type": "code",
      "metadata": {
        "id": "ctkqcLj4NTNV"
      },
      "source": [
        "a + b"
      ],
      "execution_count": null,
      "outputs": []
    },
    {
      "cell_type": "code",
      "metadata": {
        "id": "YylZFBWWNwVd"
      },
      "source": [
        "a + d"
      ],
      "execution_count": null,
      "outputs": []
    },
    {
      "cell_type": "code",
      "metadata": {
        "id": "YZj3uW7XN4i8"
      },
      "source": [
        "e = np.arange(6).reshape(2, 3)\n",
        "e.shape"
      ],
      "execution_count": null,
      "outputs": []
    },
    {
      "cell_type": "code",
      "metadata": {
        "id": "PrKe4_NvOYM2"
      },
      "source": [
        "a + e"
      ],
      "execution_count": null,
      "outputs": []
    },
    {
      "cell_type": "code",
      "metadata": {
        "id": "w5mBk1cNOc8a"
      },
      "source": [
        "b + e"
      ],
      "execution_count": null,
      "outputs": []
    },
    {
      "cell_type": "code",
      "metadata": {
        "id": "qRvuXJCBOg3Z"
      },
      "source": [
        "# 전치행렬 만드는 방법\n",
        "\n",
        "e"
      ],
      "execution_count": null,
      "outputs": []
    },
    {
      "cell_type": "code",
      "metadata": {
        "id": "j7VC_eeEOrh2"
      },
      "source": [
        "# e 를 전치행렬로 바꿔보자\n",
        "\n",
        "e.T"
      ],
      "execution_count": null,
      "outputs": []
    },
    {
      "cell_type": "code",
      "metadata": {
        "id": "NfVfXA6oOvHg"
      },
      "source": [
        ""
      ],
      "execution_count": null,
      "outputs": []
    }
  ]
}