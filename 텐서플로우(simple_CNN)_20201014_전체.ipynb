{
  "nbformat": 4,
  "nbformat_minor": 0,
  "metadata": {
    "colab": {
      "name": "텐서플로우(simple CNN) 20201014  전체",
      "provenance": [],
      "collapsed_sections": []
    },
    "kernelspec": {
      "name": "python3",
      "display_name": "Python 3"
    },
    "accelerator": "GPU"
  },
  "cells": [
    {
      "cell_type": "code",
      "metadata": {
        "id": "eIXY227p7GqP"
      },
      "source": [
        "import tensorflow as tf\n",
        "import matplotlib.pyplot as plt\n",
        "import numpy as np\n",
        "%matplotlib inline"
      ],
      "execution_count": null,
      "outputs": []
    },
    {
      "cell_type": "code",
      "metadata": {
        "id": "mWb6UcFe7ULz"
      },
      "source": [
        "from tensorflow.keras.datasets import mnist\n",
        "(X_train, y_train), (X_test, y_test) = mnist.load_data()"
      ],
      "execution_count": null,
      "outputs": []
    },
    {
      "cell_type": "code",
      "metadata": {
        "id": "hr4do5b_7klp",
        "outputId": "c2ef6ff2-0e42-4d60-8550-ecde2e9ae6b9",
        "colab": {
          "base_uri": "https://localhost:8080/",
          "height": 34
        }
      },
      "source": [
        "X_train.shape"
      ],
      "execution_count": null,
      "outputs": [
        {
          "output_type": "execute_result",
          "data": {
            "text/plain": [
              "(60000, 28, 28)"
            ]
          },
          "metadata": {
            "tags": []
          },
          "execution_count": 156
        }
      ]
    },
    {
      "cell_type": "code",
      "metadata": {
        "id": "-Nb1qOMp7zHk",
        "outputId": "b602e58f-e2db-4776-cf6d-aaef020f16cd",
        "colab": {
          "base_uri": "https://localhost:8080/",
          "height": 265
        }
      },
      "source": [
        "image = X_train[0]\n",
        "plt.imshow(image, 'gray')\n",
        "plt.show()"
      ],
      "execution_count": null,
      "outputs": [
        {
          "output_type": "display_data",
          "data": {
            "image/png": "[encoded data removed]",
            "text/plain": [
              "<Figure size 432x288 with 1 Axes>"
            ]
          },
          "metadata": {
            "tags": [],
            "needs_background": "light"
          }
        }
      ]
    },
    {
      "cell_type": "code",
      "metadata": {
        "id": "6wvWXXSe75zb",
        "outputId": "fc266ce4-5bce-4bc9-e999-79b5ba9e1138",
        "colab": {
          "base_uri": "https://localhost:8080/",
          "height": 34
        }
      },
      "source": [
        "image.shape"
      ],
      "execution_count": null,
      "outputs": [
        {
          "output_type": "execute_result",
          "data": {
            "text/plain": [
              "(28, 28)"
            ]
          },
          "metadata": {
            "tags": []
          },
          "execution_count": 158
        }
      ]
    },
    {
      "cell_type": "code",
      "metadata": {
        "id": "hux92kGG7_ZM",
        "outputId": "645324d5-1c24-4a9a-e84c-aaf8b4e6a2fa",
        "colab": {
          "base_uri": "https://localhost:8080/",
          "height": 34
        }
      },
      "source": [
        "# 실제 텐서플로우의 CNN은 4차원으로 데이터를 받는다.\n",
        "# 차원 확장\n",
        "image = image[tf.newaxis, ..., tf.newaxis]\n",
        "image.shape"
      ],
      "execution_count": null,
      "outputs": [
        {
          "output_type": "execute_result",
          "data": {
            "text/plain": [
              "(1, 28, 28, 1)"
            ]
          },
          "metadata": {
            "tags": []
          },
          "execution_count": 159
        }
      ]
    },
    {
      "cell_type": "markdown",
      "metadata": {
        "id": "vpffNo8Z9_gM"
      },
      "source": [
        "# CNN"
      ]
    },
    {
      "cell_type": "markdown",
      "metadata": {
        "id": "phAp2iOM8RI0"
      },
      "source": [
        "## Convolusion 레이어의 하이퍼 파라미터\n",
        "* filters : 필터의 개수\n",
        "    * 필터의 개수가 많다는 이야기는 뉴런의 개수를 결정짓는 말과 똑같다.\n",
        "* kernel_size : 필터의 가로 세로 크기\n",
        "    * 보통 3x3 ~ 5x5를 사용함.\n",
        "* strides : 필터가 몇개의 픽셀을 스킵하면서 지나갈 것인지\n",
        "* padding : VALID패딩 -> 패딩 있음 / SAME패딩 -> 패딩 없음\n",
        "* activation : 활성화 함수 사용하기, 나중에 레이어로 추가 가능"
      ]
    },
    {
      "cell_type": "code",
      "metadata": {
        "id": "IcHGD0_r8-02",
        "outputId": "87d59926-13dd-4907-b291-32da8408c1ff",
        "colab": {
          "base_uri": "https://localhost:8080/",
          "height": 34
        }
      },
      "source": [
        "tf.keras.layers.Conv2D(filters=3, kernel_size=(3, 3), strides=(1, 1), padding='SAME', activation='relu')"
      ],
      "execution_count": null,
      "outputs": [
        {
          "output_type": "execute_result",
          "data": {
            "text/plain": [
              "<tensorflow.python.keras.layers.convolutional.Conv2D at 0x7f8fbc9570b8>"
            ]
          },
          "metadata": {
            "tags": []
          },
          "execution_count": 160
        }
      ]
    },
    {
      "cell_type": "code",
      "metadata": {
        "id": "d9eUC8rG-nYG",
        "outputId": "f708610f-d997-4a73-e0e3-d2ddbf604c8d",
        "colab": {
          "base_uri": "https://localhost:8080/",
          "height": 34
        }
      },
      "source": [
        "# 파라미터가 정사각형이라면 튜플로 지정 안해도 됨.\n",
        "tf.keras.layers.Conv2D(filters=3, kernel_size=3, strides=1, padding='SAME', activation='relu')"
      ],
      "execution_count": null,
      "outputs": [
        {
          "output_type": "execute_result",
          "data": {
            "text/plain": [
              "<tensorflow.python.keras.layers.convolutional.Conv2D at 0x7f8fd84842b0>"
            ]
          },
          "metadata": {
            "tags": []
          },
          "execution_count": 161
        }
      ]
    },
    {
      "cell_type": "code",
      "metadata": {
        "id": "w50wJ7xe-uf5",
        "outputId": "1cd8a512-6010-4c42-ee89-24322f17ba0f",
        "colab": {
          "base_uri": "https://localhost:8080/",
          "height": 34
        }
      },
      "source": [
        "image = tf.cast(image, dtype=tf.float32)\n",
        "image.shape"
      ],
      "execution_count": null,
      "outputs": [
        {
          "output_type": "execute_result",
          "data": {
            "text/plain": [
              "TensorShape([1, 28, 28, 1])"
            ]
          },
          "metadata": {
            "tags": []
          },
          "execution_count": 162
        }
      ]
    },
    {
      "cell_type": "code",
      "metadata": {
        "id": "ONzXaY_F_ATA",
        "outputId": "b43c6aa5-87c9-4b56-ef68-e97ad7db0d8b",
        "colab": {
          "base_uri": "https://localhost:8080/",
          "height": 34
        }
      },
      "source": [
        "layer = tf.keras.layers.Conv2D(filters=5, kernel_size=(3, 3), strides=(1, 1), padding='SAME')\n",
        "layer"
      ],
      "execution_count": null,
      "outputs": [
        {
          "output_type": "execute_result",
          "data": {
            "text/plain": [
              "<tensorflow.python.keras.layers.convolutional.Conv2D at 0x7f8fd8c1eb38>"
            ]
          },
          "metadata": {
            "tags": []
          },
          "execution_count": 163
        }
      ]
    },
    {
      "cell_type": "code",
      "metadata": {
        "id": "5Pqm-Moj_lQ4",
        "outputId": "5833c453-a4f8-46a4-fbd3-0275e30d8b00",
        "colab": {
          "base_uri": "https://localhost:8080/",
          "height": 34
        }
      },
      "source": [
        "output = layer(image)\n",
        "output.shape"
      ],
      "execution_count": null,
      "outputs": [
        {
          "output_type": "execute_result",
          "data": {
            "text/plain": [
              "TensorShape([1, 28, 28, 5])"
            ]
          },
          "metadata": {
            "tags": []
          },
          "execution_count": 164
        }
      ]
    },
    {
      "cell_type": "code",
      "metadata": {
        "id": "dFbzfNCUAGd-",
        "outputId": "6097262e-8130-43b6-f0af-c554f0a4cf98",
        "colab": {
          "base_uri": "https://localhost:8080/",
          "height": 167
        }
      },
      "source": [
        "_, axes = plt.subplots(nrows=1, ncols=6, figsize=(20, 10))\n",
        "\n",
        "axes[0].imshow(image[0, ..., 0], cmap='gray')\n",
        "axes[0].set_title(\"original Image\")\n",
        "for idx, ax in enumerate(axes[1:]):\n",
        "    ax.set_title(\"Output {}\".format(idx))\n",
        "    ax.imshow(output[0, ..., idx], cmap='gray')\n",
        "plt.show()"
      ],
      "execution_count": null,
      "outputs": [
        {
          "output_type": "display_data",
          "data": {
            "image/png": "[encoded data removed]",
            "text/plain": [
              "<Figure size 1440x720 with 6 Axes>"
            ]
          },
          "metadata": {
            "tags": [],
            "needs_background": "light"
          }
        }
      ]
    },
    {
      "cell_type": "markdown",
      "metadata": {
        "id": "z8739PbjSFLF"
      },
      "source": [
        "## Filter 확인하기"
      ]
    },
    {
      "cell_type": "code",
      "metadata": {
        "id": "lQll9xCmTNnO",
        "outputId": "025941a3-ef17-4950-ad83-970d0246d5cd",
        "colab": {
          "base_uri": "https://localhost:8080/",
          "height": 34
        }
      },
      "source": [
        "# 0번에는 가중치 1번에는 편향\n",
        "weights = layer.get_weights()\n",
        "weights[0].shape, weights[1].shape"
      ],
      "execution_count": null,
      "outputs": [
        {
          "output_type": "execute_result",
          "data": {
            "text/plain": [
              "((3, 3, 1, 5), (5,))"
            ]
          },
          "metadata": {
            "tags": []
          },
          "execution_count": 166
        }
      ]
    },
    {
      "cell_type": "markdown",
      "metadata": {
        "id": "lOA8-PCIT0Yl"
      },
      "source": [
        "(필터의 세로크기 필터의 가로크기, 채널수, 필터의 개수)"
      ]
    },
    {
      "cell_type": "markdown",
      "metadata": {
        "id": "qLljFpmhT9r8"
      },
      "source": [
        "## 필터 시각화"
      ]
    },
    {
      "cell_type": "code",
      "metadata": {
        "id": "xRUEbhb2UHC0",
        "outputId": "e7bd65e1-4a23-4ee1-9624-4e220297b165",
        "colab": {
          "base_uri": "https://localhost:8080/",
          "height": 188
        }
      },
      "source": [
        "_, axes = plt.subplots(nrows=1, ncols=5, figsize=(20, 10))\n",
        "\n",
        "for idx, ax in enumerate(axes):\n",
        "    ax.set_title(\"filter {}\".format(idx))\n",
        "    ax.imshow(weights[0][:, :, 0, idx], 'gray')\n",
        "plt.show()\n"
      ],
      "execution_count": null,
      "outputs": [
        {
          "output_type": "display_data",
          "data": {
            "image/png": "[encoded data removed]",
            "text/plain": [
              "<Figure size 1440x720 with 5 Axes>"
            ]
          },
          "metadata": {
            "tags": [],
            "needs_background": "light"
          }
        }
      ]
    },
    {
      "cell_type": "markdown",
      "metadata": {
        "id": "i1RH9DyKURLX"
      },
      "source": [
        "## ReLU 레이어 적용하기"
      ]
    },
    {
      "cell_type": "code",
      "metadata": {
        "id": "5lgmdskvXK-Q",
        "outputId": "4dd3ef63-e004-40de-a17b-7ef15d49c77f",
        "colab": {
          "base_uri": "https://localhost:8080/",
          "height": 34
        }
      },
      "source": [
        "output.shape"
      ],
      "execution_count": null,
      "outputs": [
        {
          "output_type": "execute_result",
          "data": {
            "text/plain": [
              "TensorShape([1, 28, 28, 5])"
            ]
          },
          "metadata": {
            "tags": []
          },
          "execution_count": 168
        }
      ]
    },
    {
      "cell_type": "code",
      "metadata": {
        "id": "SRkXeuThXMwD",
        "outputId": "f3e95f5d-0e8f-42dc-fe67-b523d814269b",
        "colab": {
          "base_uri": "https://localhost:8080/",
          "height": 34
        }
      },
      "source": [
        "np.min(output), np.max(output)"
      ],
      "execution_count": null,
      "outputs": [
        {
          "output_type": "execute_result",
          "data": {
            "text/plain": [
              "(-313.1986, 212.78586)"
            ]
          },
          "metadata": {
            "tags": []
          },
          "execution_count": 169
        }
      ]
    },
    {
      "cell_type": "code",
      "metadata": {
        "id": "tRFu2btNXRTX",
        "outputId": "30e00c68-5abe-4116-d855-0b77edbc3b6f",
        "colab": {
          "base_uri": "https://localhost:8080/",
          "height": 34
        }
      },
      "source": [
        "act_layer = tf.keras.layers.ReLU()\n",
        "act_output = act_layer(output)\n",
        "act_output.shape"
      ],
      "execution_count": null,
      "outputs": [
        {
          "output_type": "execute_result",
          "data": {
            "text/plain": [
              "TensorShape([1, 28, 28, 5])"
            ]
          },
          "metadata": {
            "tags": []
          },
          "execution_count": 170
        }
      ]
    },
    {
      "cell_type": "code",
      "metadata": {
        "id": "u_GPQvmeXtOC",
        "outputId": "e407247f-7d04-45fe-ba21-ae9f2771bdd5",
        "colab": {
          "base_uri": "https://localhost:8080/",
          "height": 167
        }
      },
      "source": [
        "_, axes = plt.subplots(nrows=1, ncols=6, figsize=(20, 10))\n",
        "\n",
        "axes[0].imshow(image[0, ..., 0], cmap='gray')\n",
        "axes[0].set_title(\"original Image\")\n",
        "for idx, ax in enumerate(axes[1:]):\n",
        "    ax.set_title(\"Output {}\".format(idx))\n",
        "    ax.imshow(act_output[0, ..., idx], cmap='gray')\n",
        "plt.show()"
      ],
      "execution_count": null,
      "outputs": [
        {
          "output_type": "display_data",
          "data": {
            "image/png": "[encoded data removed]",
            "text/plain": [
              "<Figure size 1440x720 with 6 Axes>"
            ]
          },
          "metadata": {
            "tags": [],
            "needs_background": "light"
          }
        }
      ]
    },
    {
      "cell_type": "markdown",
      "metadata": {
        "id": "-xR5C91tX1pq"
      },
      "source": [
        "## MaxPooling 레이어\n",
        "- 약간 움직여도 같은 이미지임을 찾아준다."
      ]
    },
    {
      "cell_type": "code",
      "metadata": {
        "id": "omULxK9rZRzm",
        "outputId": "d8179470-a81c-4cb5-b0cb-e1706ab70988",
        "colab": {
          "base_uri": "https://localhost:8080/",
          "height": 34
        }
      },
      "source": [
        "pool_layer = tf.keras.layers.MaxPool2D(pool_size=(2, 2), strides=(2, 2), padding='SAME')\n",
        "pool_output = pool_layer(act_output)\n",
        "pool_output.shape"
      ],
      "execution_count": null,
      "outputs": [
        {
          "output_type": "execute_result",
          "data": {
            "text/plain": [
              "TensorShape([1, 14, 14, 5])"
            ]
          },
          "metadata": {
            "tags": []
          },
          "execution_count": 172
        }
      ]
    },
    {
      "cell_type": "code",
      "metadata": {
        "id": "ztelUULkZod5",
        "outputId": "4c8c0249-c669-4918-9758-50f7f2ea59b3",
        "colab": {
          "base_uri": "https://localhost:8080/",
          "height": 167
        }
      },
      "source": [
        "_, axes = plt.subplots(nrows=1, ncols=6, figsize=(20, 10))\n",
        "\n",
        "axes[0].imshow(image[0, ..., 0], cmap='gray')\n",
        "axes[0].set_title(\"original Image\")\n",
        "for idx, ax in enumerate(axes[1:]):\n",
        "    ax.set_title(\"Output {}\".format(idx))\n",
        "    ax.imshow(pool_output[0, ..., idx], cmap='gray')\n",
        "plt.show()"
      ],
      "execution_count": null,
      "outputs": [
        {
          "output_type": "display_data",
          "data": {
            "image/png": "[encoded data removed]",
            "text/plain": [
              "<Figure size 1440x720 with 6 Axes>"
            ]
          },
          "metadata": {
            "tags": [],
            "needs_background": "light"
          }
        }
      ]
    },
    {
      "cell_type": "markdown",
      "metadata": {
        "id": "L0yevpmVZ6QE"
      },
      "source": [
        "## flatten Layer"
      ]
    },
    {
      "cell_type": "code",
      "metadata": {
        "id": "-YQanWpWaJvY",
        "outputId": "49dd906e-d6e8-4899-ac16-2feffdc6f0d5",
        "colab": {
          "base_uri": "https://localhost:8080/",
          "height": 34
        }
      },
      "source": [
        "flatten_layer = tf.keras.layers.Flatten() \n",
        "flatten_output = flatten_layer(pool_output)\n",
        "flatten_output.shape"
      ],
      "execution_count": null,
      "outputs": [
        {
          "output_type": "execute_result",
          "data": {
            "text/plain": [
              "TensorShape([1, 980])"
            ]
          },
          "metadata": {
            "tags": []
          },
          "execution_count": 174
        }
      ]
    },
    {
      "cell_type": "markdown",
      "metadata": {
        "id": "A3xQUafkao3Z"
      },
      "source": [
        "## Dense 레이어\n",
        "- Affine 레이어\n",
        "- 행렬 내적 연산"
      ]
    },
    {
      "cell_type": "code",
      "metadata": {
        "id": "DpH8_E1rbOIc",
        "outputId": "1f9ff916-6394-4d4f-c662-f33a54bb5268",
        "colab": {
          "base_uri": "https://localhost:8080/",
          "height": 34
        }
      },
      "source": [
        "dense_layer = tf.keras.layers.Dense(32, activation='relu')\n",
        "dense_output = dense_layer(flatten_output)\n",
        "dense_output.shape\n",
        "# 한장의 이미지가 들어와서 32개의 출력을 낼 것."
      ],
      "execution_count": null,
      "outputs": [
        {
          "output_type": "execute_result",
          "data": {
            "text/plain": [
              "TensorShape([1, 32])"
            ]
          },
          "metadata": {
            "tags": []
          },
          "execution_count": 175
        }
      ]
    },
    {
      "cell_type": "code",
      "metadata": {
        "id": "oUXw8tSdbb-M",
        "outputId": "75031fe1-6266-4430-df7a-e4663decdcd7",
        "colab": {
          "base_uri": "https://localhost:8080/",
          "height": 34
        }
      },
      "source": [
        "dense_layer2 = tf.keras.layers.Dense(10, activation='relu')\n",
        "dense_output2 = dense_layer2(dense_output)\n",
        "dense_output2.shape"
      ],
      "execution_count": null,
      "outputs": [
        {
          "output_type": "execute_result",
          "data": {
            "text/plain": [
              "TensorShape([1, 10])"
            ]
          },
          "metadata": {
            "tags": []
          },
          "execution_count": 176
        }
      ]
    },
    {
      "cell_type": "markdown",
      "metadata": {
        "id": "fwb0DjS0b4mq"
      },
      "source": [
        "## 초간단 CNN레이어 연결하기\n",
        "* 사용할 데이터의 feature 형상 지정 -> input_shape\n",
        "    * 28, 28, 1\n",
        "* 분류할 데이터 개수 미리 지정 -> num_classes\n",
        "    * 데이터가 10개 들어갈 것임."
      ]
    },
    {
      "cell_type": "code",
      "metadata": {
        "id": "DnqmYCdab_Or"
      },
      "source": [
        "from tensorflow.keras import layers\n",
        "\n",
        "input_shape = (28, 28, 1)\n",
        "num_classes = 10"
      ],
      "execution_count": null,
      "outputs": []
    },
    {
      "cell_type": "code",
      "metadata": {
        "id": "4GFZhZ4Bfjff"
      },
      "source": [
        "# 1. 텐서 플로우를 활용한 신경망의 시작은 InputLayer로 시작한다.\n",
        "inputs = layers.Input(shape=input_shape)\n",
        "\n",
        "# 2. CNN 레이어 구축 -> Feature Extraction\n",
        "# strides를 입력하지 않으면 기본적으로 1이 할당됨.\n",
        "net = layers.Conv2D(32, 3, padding='SAME')(inputs)\n",
        "net = layers.Activation('relu')(net)\n",
        "net = layers.Conv2D(32, 3, padding='SAME')(net)\n",
        "net = layers.Activation('relu')(net)\n",
        "net = layers.MaxPool2D((2, 2))(net)\n",
        "\n",
        "# 과적합 방지를 위해서 dropout\n",
        "# Dropout(0.25) 25%의 데이터를 drop -> 0으로 만들어 버리겠다.\n",
        "net = layers.Dropout(0.25)(net)\n",
        "\n",
        "\n",
        "net = layers.Conv2D(64, 3, padding='SAME')(net)\n",
        "net = layers.Activation('relu')(net)\n",
        "net = layers.Conv2D(64, 3, padding='SAME')(net)\n",
        "net = layers.Activation('relu')(net)\n",
        "net = layers.MaxPool2D((2, 2))(net)\n",
        "net = layers.Dropout(0.25)(net)\n",
        "\n",
        "\n",
        "# 3. Dense Layer를 활용 -> Fully Connected\n",
        "net = layers.Flatten()(net)\n",
        "# z를 구하는 구간.\n",
        "net = layers.Dense(512)(net)\n",
        "net = layers.Activation('relu')(net)\n",
        "net = layers.Dropout(0.25)(net)\n",
        "\n",
        "# 출력층 설계\n",
        "net = layers.Dense(num_classes)(net)\n",
        "net = layers.Activation('softmax')(net)\n",
        "\n",
        "model = tf.keras.Model(inputs=inputs, outputs=net, name='Basic_CNN')"
      ],
      "execution_count": null,
      "outputs": []
    },
    {
      "cell_type": "code",
      "metadata": {
        "id": "Bo_rimQ6jAay",
        "outputId": "1658877f-911b-4f79-d939-be008be5636d",
        "colab": {
          "base_uri": "https://localhost:8080/",
          "height": 799
        }
      },
      "source": [
        "model.summary()"
      ],
      "execution_count": null,
      "outputs": [
        {
          "output_type": "stream",
          "text": [
            "Model: \"Basic_CNN\"\n",
            "_________________________________________________________________\n",
            "Layer (type)                 Output Shape              Param #   \n",
            "=================================================================\n",
            "input_4 (InputLayer)         [(None, 28, 28, 1)]       0         \n",
            "_________________________________________________________________\n",
            "conv2d_24 (Conv2D)           (None, 28, 28, 32)        320       \n",
            "_________________________________________________________________\n",
            "activation_18 (Activation)   (None, 28, 28, 32)        0         \n",
            "_________________________________________________________________\n",
            "conv2d_25 (Conv2D)           (None, 28, 28, 32)        9248      \n",
            "_________________________________________________________________\n",
            "activation_19 (Activation)   (None, 28, 28, 32)        0         \n",
            "_________________________________________________________________\n",
            "max_pooling2d_10 (MaxPooling (None, 14, 14, 32)        0         \n",
            "_________________________________________________________________\n",
            "dropout_9 (Dropout)          (None, 14, 14, 32)        0         \n",
            "_________________________________________________________________\n",
            "conv2d_26 (Conv2D)           (None, 14, 14, 64)        18496     \n",
            "_________________________________________________________________\n",
            "activation_20 (Activation)   (None, 14, 14, 64)        0         \n",
            "_________________________________________________________________\n",
            "conv2d_27 (Conv2D)           (None, 14, 14, 64)        36928     \n",
            "_________________________________________________________________\n",
            "activation_21 (Activation)   (None, 14, 14, 64)        0         \n",
            "_________________________________________________________________\n",
            "max_pooling2d_11 (MaxPooling (None, 7, 7, 64)          0         \n",
            "_________________________________________________________________\n",
            "dropout_10 (Dropout)         (None, 7, 7, 64)          0         \n",
            "_________________________________________________________________\n",
            "flatten_7 (Flatten)          (None, 3136)              0         \n",
            "_________________________________________________________________\n",
            "dense_14 (Dense)             (None, 512)               1606144   \n",
            "_________________________________________________________________\n",
            "activation_22 (Activation)   (None, 512)               0         \n",
            "_________________________________________________________________\n",
            "dropout_11 (Dropout)         (None, 512)               0         \n",
            "_________________________________________________________________\n",
            "dense_15 (Dense)             (None, 10)                5130      \n",
            "_________________________________________________________________\n",
            "activation_23 (Activation)   (None, 10)                0         \n",
            "=================================================================\n",
            "Total params: 1,676,266\n",
            "Trainable params: 1,676,266\n",
            "Non-trainable params: 0\n",
            "_________________________________________________________________\n"
          ],
          "name": "stdout"
        }
      ]
    },
    {
      "cell_type": "markdown",
      "metadata": {
        "id": "U4cLAQH3j6ad"
      },
      "source": [
        "## 모델을 평가할 수 있는 최적화 함수 선정\n",
        "- Loss Function(MSE, CEE)\n",
        "- Optimization(SGD, ADAM, RMSPROPS, lbfgs, Momentum 등등....\n",
        "- Metrics(평가 기준) - 정확도로 많이 함"
      ]
    },
    {
      "cell_type": "markdown",
      "metadata": {
        "id": "s-Vc9Jrqk5uA"
      },
      "source": [
        "### Loss Function 선정하기\n",
        "- MSE는 회귀문제\n",
        "- CEE는 다중분류\n",
        "\n",
        "- Binary classification( 이진 분류시에 많이 사용 )\n",
        "- Categorical Classification( 이진 분류 이상에서 광범위하게 사용 )"
      ]
    },
    {
      "cell_type": "code",
      "metadata": {
        "id": "4Vr44Ydrlz46"
      },
      "source": [
        "# 이진 분류를 위한 CEE\n",
        "loss = 'binary_crossentropy'\n",
        "\n",
        "# 다중 분류를 위한 CEE\n",
        "loss = 'categorical_crossentropy'"
      ],
      "execution_count": null,
      "outputs": []
    },
    {
      "cell_type": "markdown",
      "metadata": {
        "id": "Q4ZcE_4JmHWZ"
      },
      "source": [
        "#### categorical CEE / sparse categorical CEE\n",
        "\n",
        "- categorical_crossentropy : 원핫 인코딩 된 레이블에 사용 (예전에 해본적있음)\n",
        "- sparse_categorical_crossentropy : 원핫 인코딩이 안된 레이블에 사용"
      ]
    },
    {
      "cell_type": "code",
      "metadata": {
        "id": "d8p4u4Emmsf8",
        "outputId": "04d1af10-abf7-43bc-da96-3fb56f3b812f",
        "colab": {
          "base_uri": "https://localhost:8080/",
          "height": 34
        }
      },
      "source": [
        "y_train[:5]"
      ],
      "execution_count": null,
      "outputs": [
        {
          "output_type": "execute_result",
          "data": {
            "text/plain": [
              "array([5, 0, 4, 1, 9], dtype=uint8)"
            ]
          },
          "metadata": {
            "tags": []
          },
          "execution_count": 181
        }
      ]
    },
    {
      "cell_type": "code",
      "metadata": {
        "id": "ajjeTM_kmuNN",
        "outputId": "5dab2399-3301-404c-ebad-9957d2439258",
        "colab": {
          "base_uri": "https://localhost:8080/",
          "height": 34
        }
      },
      "source": [
        "# 케라스에서 각종 손실함수 불러오기\n",
        "loss_func = tf.keras.losses.sparse_categorical_crossentropy\n",
        "loss_func"
      ],
      "execution_count": null,
      "outputs": [
        {
          "output_type": "execute_result",
          "data": {
            "text/plain": [
              "<function tensorflow.python.keras.losses.sparse_categorical_crossentropy>"
            ]
          },
          "metadata": {
            "tags": []
          },
          "execution_count": 182
        }
      ]
    },
    {
      "cell_type": "markdown",
      "metadata": {
        "id": "90tT85bAnJM3"
      },
      "source": [
        "### Metric (평가기준)\n",
        "- accuracy(정확도 확인)"
      ]
    },
    {
      "cell_type": "code",
      "metadata": {
        "id": "D2VpNn7UngTL"
      },
      "source": [
        "metrics = ['accuracy'] # 또는 [acc]"
      ],
      "execution_count": null,
      "outputs": []
    },
    {
      "cell_type": "code",
      "metadata": {
        "id": "-PB7dFe5nnSf",
        "outputId": "d3e92c5b-f88c-4816-bc60-ea987119aae4",
        "colab": {
          "base_uri": "https://localhost:8080/",
          "height": 34
        }
      },
      "source": [
        "tf.keras.metrics.Accuracy()"
      ],
      "execution_count": null,
      "outputs": [
        {
          "output_type": "execute_result",
          "data": {
            "text/plain": [
              "<tensorflow.python.keras.metrics.Accuracy at 0x7f904351bcc0>"
            ]
          },
          "metadata": {
            "tags": []
          },
          "execution_count": 184
        }
      ]
    },
    {
      "cell_type": "markdown",
      "metadata": {
        "id": "RhC0A_oInq9H"
      },
      "source": [
        "### Optimizer\n",
        "- sgb (기본)\n",
        "- rmsprop (adam이 잘 안되면 시도해 볼만함.)\n",
        "- adam(거의 모든 상황에서 잘 작동함)\n",
        "- lbfgs"
      ]
    },
    {
      "cell_type": "code",
      "metadata": {
        "id": "ADSvfSHsoQBh"
      },
      "source": [
        "optm = tf.keras.optimizers.Adam()"
      ],
      "execution_count": null,
      "outputs": []
    },
    {
      "cell_type": "markdown",
      "metadata": {
        "id": "5MrMTVAooZQZ"
      },
      "source": [
        "### Model Compile\n",
        "1. 레이어를 쌓아서 네트워크 준비\n",
        "2. 손실, 평가, 최적화 준비하기\n",
        "3. 모델 컴파일"
      ]
    },
    {
      "cell_type": "code",
      "metadata": {
        "id": "OR1w_NYYoj9V"
      },
      "source": [
        "# 실제 빌드 과정\n",
        "# 최적화 계획 손실 등 모두 완료된 상태\n",
        "model.compile(optimizer=optm, loss=loss_func, metrics=metrics)"
      ],
      "execution_count": null,
      "outputs": []
    },
    {
      "cell_type": "code",
      "metadata": {
        "id": "IFbDe8bbouFG",
        "outputId": "f8ea29d9-eb6a-4f50-8a57-cba4472d0f19",
        "colab": {
          "base_uri": "https://localhost:8080/",
          "height": 34
        }
      },
      "source": [
        "X_train.shape"
      ],
      "execution_count": null,
      "outputs": [
        {
          "output_type": "execute_result",
          "data": {
            "text/plain": [
              "(60000, 28, 28)"
            ]
          },
          "metadata": {
            "tags": []
          },
          "execution_count": 187
        }
      ]
    },
    {
      "cell_type": "code",
      "metadata": {
        "id": "q2DNd1A3o6Mz",
        "outputId": "2434d6ff-4868-4161-aa48-1c1d8e3de3d3",
        "colab": {
          "base_uri": "https://localhost:8080/",
          "height": 34
        }
      },
      "source": [
        "X_test.shape"
      ],
      "execution_count": null,
      "outputs": [
        {
          "output_type": "execute_result",
          "data": {
            "text/plain": [
              "(10000, 28, 28)"
            ]
          },
          "metadata": {
            "tags": []
          },
          "execution_count": 188
        }
      ]
    },
    {
      "cell_type": "code",
      "metadata": {
        "id": "F-M_USXHo7We"
      },
      "source": [
        "X_train = X_train[..., tf.newaxis]\n",
        "X_test = X_test[..., tf.newaxis]"
      ],
      "execution_count": null,
      "outputs": []
    },
    {
      "cell_type": "code",
      "metadata": {
        "id": "jweu28RlpIzN",
        "outputId": "64961b67-afc5-4687-a7a8-f29432bbffac",
        "colab": {
          "base_uri": "https://localhost:8080/",
          "height": 34
        }
      },
      "source": [
        "X_train.shape, X_test.shape"
      ],
      "execution_count": null,
      "outputs": [
        {
          "output_type": "execute_result",
          "data": {
            "text/plain": [
              "((60000, 28, 28, 1), (10000, 28, 28, 1))"
            ]
          },
          "metadata": {
            "tags": []
          },
          "execution_count": 190
        }
      ]
    },
    {
      "cell_type": "markdown",
      "metadata": {
        "id": "C015H86rpMNS"
      },
      "source": [
        "### 스케일링 작업\n",
        "- 실수를 넣어줘야하기 때문에 스케일링 같은 것을 한다.\n",
        "- 안하면 훈련이 잘 안됨.\n",
        "- 매우매우 권장됨."
      ]
    },
    {
      "cell_type": "code",
      "metadata": {
        "id": "bYFKNtpYpZO6"
      },
      "source": [
        "X_train_scaled = X_train / 255.0\n",
        "X_test_scaled = X_test / 255.0"
      ],
      "execution_count": null,
      "outputs": []
    },
    {
      "cell_type": "code",
      "metadata": {
        "id": "gAx8rotUpg1l",
        "outputId": "5e44c145-5499-4a7a-8b8d-02f552551a70",
        "colab": {
          "base_uri": "https://localhost:8080/",
          "height": 34
        }
      },
      "source": [
        "np.min(X_train_scaled), np.max(X_train_scaled)"
      ],
      "execution_count": null,
      "outputs": [
        {
          "output_type": "execute_result",
          "data": {
            "text/plain": [
              "(0.0, 1.0)"
            ]
          },
          "metadata": {
            "tags": []
          },
          "execution_count": 192
        }
      ]
    },
    {
      "cell_type": "code",
      "metadata": {
        "id": "wm-v3xvJpl9v",
        "outputId": "f970c96f-bdeb-4fea-b50f-100f632aecc7",
        "colab": {
          "base_uri": "https://localhost:8080/",
          "height": 34
        }
      },
      "source": [
        "np.min(X_test_scaled), np.max(X_test_scaled)"
      ],
      "execution_count": null,
      "outputs": [
        {
          "output_type": "execute_result",
          "data": {
            "text/plain": [
              "(0.0, 1.0)"
            ]
          },
          "metadata": {
            "tags": []
          },
          "execution_count": 193
        }
      ]
    },
    {
      "cell_type": "markdown",
      "metadata": {
        "id": "OsJ7r_kFprRi"
      },
      "source": [
        "## 학습 시작\n",
        "- 에폭\n",
        "- 배치사이즈 설정하기"
      ]
    },
    {
      "cell_type": "code",
      "metadata": {
        "id": "2bN11C9tp01G"
      },
      "source": [
        "num_epoche = 10\n",
        "batch_size = 32"
      ],
      "execution_count": null,
      "outputs": []
    },
    {
      "cell_type": "code",
      "metadata": {
        "id": "IrPKcsnpp53i",
        "outputId": "109e468b-7e49-4aa7-f5ce-5b06322fe2b5",
        "colab": {
          "base_uri": "https://localhost:8080/",
          "height": 374
        }
      },
      "source": [
        "model.fit(X_train_scaled, y_train, batch_size=batch_size, epochs=num_epoche, shuffle=True)"
      ],
      "execution_count": null,
      "outputs": [
        {
          "output_type": "stream",
          "text": [
            "Epoch 1/10\n",
            "1875/1875 [==============================] - 8s 4ms/step - loss: 0.1292 - accuracy: 0.9607\n",
            "Epoch 2/10\n",
            "1875/1875 [==============================] - 8s 4ms/step - loss: 0.0507 - accuracy: 0.9845\n",
            "Epoch 3/10\n",
            "1875/1875 [==============================] - 8s 4ms/step - loss: 0.0374 - accuracy: 0.9883\n",
            "Epoch 4/10\n",
            "1875/1875 [==============================] - 8s 4ms/step - loss: 0.0312 - accuracy: 0.9903\n",
            "Epoch 5/10\n",
            "1875/1875 [==============================] - 8s 4ms/step - loss: 0.0254 - accuracy: 0.9923\n",
            "Epoch 6/10\n",
            "1875/1875 [==============================] - 8s 4ms/step - loss: 0.0232 - accuracy: 0.9933\n",
            "Epoch 7/10\n",
            "1875/1875 [==============================] - 8s 4ms/step - loss: 0.0212 - accuracy: 0.9934\n",
            "Epoch 8/10\n",
            "1875/1875 [==============================] - 8s 4ms/step - loss: 0.0181 - accuracy: 0.9946\n",
            "Epoch 9/10\n",
            "1875/1875 [==============================] - 9s 5ms/step - loss: 0.0185 - accuracy: 0.9944\n",
            "Epoch 10/10\n",
            "1875/1875 [==============================] - 8s 4ms/step - loss: 0.0165 - accuracy: 0.9948\n"
          ],
          "name": "stdout"
        },
        {
          "output_type": "execute_result",
          "data": {
            "text/plain": [
              "<tensorflow.python.keras.callbacks.History at 0x7f8fbaff68d0>"
            ]
          },
          "metadata": {
            "tags": []
          },
          "execution_count": 195
        }
      ]
    },
    {
      "cell_type": "code",
      "metadata": {
        "id": "BavFMLbeqFTb",
        "outputId": "f670db94-b499-4c52-e403-ebbb2d366605",
        "colab": {
          "base_uri": "https://localhost:8080/",
          "height": 265
        }
      },
      "source": [
        "plt.imshow(image[0, :, :, 0], 'gray')\n",
        "plt.show()"
      ],
      "execution_count": null,
      "outputs": [
        {
          "output_type": "display_data",
          "data": {
            "image/png": "[encoded data removed]",
            "text/plain": [
              "<Figure size 432x288 with 1 Axes>"
            ]
          },
          "metadata": {
            "tags": [],
            "needs_background": "light"
          }
        }
      ]
    },
    {
      "cell_type": "code",
      "metadata": {
        "id": "xWxG5X-HtE-u",
        "outputId": "cec32a5e-e021-44d5-bb93-ce18ed294d45",
        "colab": {
          "base_uri": "https://localhost:8080/",
          "height": 34
        }
      },
      "source": [
        "model.predict(image)"
      ],
      "execution_count": null,
      "outputs": [
        {
          "output_type": "execute_result",
          "data": {
            "text/plain": [
              "array([[0., 0., 0., 0., 0., 1., 0., 0., 0., 0.]], dtype=float32)"
            ]
          },
          "metadata": {
            "tags": []
          },
          "execution_count": 197
        }
      ]
    },
    {
      "cell_type": "code",
      "metadata": {
        "id": "R_-CXi_utKpe",
        "outputId": "a11fca18-3ba8-48e8-c84e-0d69ecf5b793",
        "colab": {
          "base_uri": "https://localhost:8080/",
          "height": 265
        }
      },
      "source": [
        "image = X_test_scaled[0, :, :, 0]\n",
        "\n",
        "plt.imshow(image, 'gray')\n",
        "plt.show()"
      ],
      "execution_count": null,
      "outputs": [
        {
          "output_type": "display_data",
          "data": {
            "image/png": "[encoded data removed]",
            "text/plain": [
              "<Figure size 432x288 with 1 Axes>"
            ]
          },
          "metadata": {
            "tags": [],
            "needs_background": "light"
          }
        }
      ]
    },
    {
      "cell_type": "code",
      "metadata": {
        "id": "BEeh6E61tbur",
        "outputId": "40583f05-7588-41ec-d9ad-83548b4ee51d",
        "colab": {
          "base_uri": "https://localhost:8080/",
          "height": 34
        }
      },
      "source": [
        "y_test[0]"
      ],
      "execution_count": null,
      "outputs": [
        {
          "output_type": "execute_result",
          "data": {
            "text/plain": [
              "7"
            ]
          },
          "metadata": {
            "tags": []
          },
          "execution_count": 199
        }
      ]
    },
    {
      "cell_type": "code",
      "metadata": {
        "id": "ZiRjcaUntmSK",
        "outputId": "4f5c34c9-fb7b-4f17-98e7-292139379983",
        "colab": {
          "base_uri": "https://localhost:8080/",
          "height": 34
        }
      },
      "source": [
        "image = image[tf.newaxis, ..., tf.newaxis] # 훈련할 때 4차원으로 훈련했으니까 테스트 할 때도 4차원으로 테스트\n",
        "image.shape\n"
      ],
      "execution_count": null,
      "outputs": [
        {
          "output_type": "execute_result",
          "data": {
            "text/plain": [
              "(1, 28, 28, 1)"
            ]
          },
          "metadata": {
            "tags": []
          },
          "execution_count": 200
        }
      ]
    },
    {
      "cell_type": "code",
      "metadata": {
        "id": "TdLjXFJWtv9A",
        "outputId": "eee5cf81-6ce2-4516-a186-6d5a86ca3a07",
        "colab": {
          "base_uri": "https://localhost:8080/",
          "height": 68
        }
      },
      "source": [
        "predictions = model.predict(image)\n",
        "predictions"
      ],
      "execution_count": null,
      "outputs": [
        {
          "output_type": "execute_result",
          "data": {
            "text/plain": [
              "array([[4.7198585e-11, 1.2495710e-09, 1.4689512e-10, 3.9125236e-09,\n",
              "        3.8202316e-11, 1.1705649e-10, 4.7396237e-15, 9.9999988e-01,\n",
              "        6.0092391e-12, 1.5728041e-07]], dtype=float32)"
            ]
          },
          "metadata": {
            "tags": []
          },
          "execution_count": 201
        }
      ]
    },
    {
      "cell_type": "code",
      "metadata": {
        "id": "HcLJY4JFuYxR",
        "outputId": "36e18c16-d5e5-46d3-d5ab-27659fe435f4",
        "colab": {
          "base_uri": "https://localhost:8080/",
          "height": 34
        }
      },
      "source": [
        "np.argmax(predictions)"
      ],
      "execution_count": null,
      "outputs": [
        {
          "output_type": "execute_result",
          "data": {
            "text/plain": [
              "7"
            ]
          },
          "metadata": {
            "tags": []
          },
          "execution_count": 202
        }
      ]
    },
    {
      "cell_type": "code",
      "metadata": {
        "id": "ILOEy9JouePJ",
        "outputId": "b34e3ce9-8de9-43fe-96ef-56c75508648f",
        "colab": {
          "base_uri": "https://localhost:8080/",
          "height": 187
        }
      },
      "source": [
        "for proba in predictions[0]:\n",
        "    print(\"{:.10f}\".format(proba))"
      ],
      "execution_count": null,
      "outputs": [
        {
          "output_type": "stream",
          "text": [
            "0.0000000000\n",
            "0.0000000012\n",
            "0.0000000001\n",
            "0.0000000039\n",
            "0.0000000000\n",
            "0.0000000001\n",
            "0.0000000000\n",
            "0.9999998808\n",
            "0.0000000000\n",
            "0.0000001573\n"
          ],
          "name": "stdout"
        }
      ]
    },
    {
      "cell_type": "code",
      "metadata": {
        "id": "pIYxCuIfvAWz",
        "outputId": "e66bf0d3-6a13-4b02-81a1-89019de6dc1a",
        "colab": {
          "base_uri": "https://localhost:8080/",
          "height": 85
        }
      },
      "source": [
        "# tensorflow 원-핫 인코딩\n",
        "tf.one_hot([0, 1, 2], 10)"
      ],
      "execution_count": null,
      "outputs": [
        {
          "output_type": "execute_result",
          "data": {
            "text/plain": [
              "<tf.Tensor: shape=(3, 10), dtype=float32, numpy=\n",
              "array([[1., 0., 0., 0., 0., 0., 0., 0., 0., 0.],\n",
              "       [0., 1., 0., 0., 0., 0., 0., 0., 0., 0.],\n",
              "       [0., 0., 1., 0., 0., 0., 0., 0., 0., 0.]], dtype=float32)>"
            ]
          },
          "metadata": {
            "tags": []
          },
          "execution_count": 206
        }
      ]
    },
    {
      "cell_type": "code",
      "metadata": {
        "id": "OFp5VeLJwE9j"
      },
      "source": [
        ""
      ],
      "execution_count": null,
      "outputs": []
    }
  ]
}